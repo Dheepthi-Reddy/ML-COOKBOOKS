{
 "cells": [
  {
   "cell_type": "markdown",
   "id": "a9b883b0-0074-4dc8-9617-2934b26f4f05",
   "metadata": {},
   "source": [
    "# CHAPTER - 19: Clustering\n",
    "\n",
    "In supervised machine learning, we have access to both features and targets, this is not always the case. Sometimes we only know the features.\n",
    "\n",
    "For example: We can not break up the sales of a grocery store by weather a shopper is a memmber of discount club or not using supervised machine learning, because we don't have a target to train and evaluate our models.\n",
    "\n",
    "We can use unsupervised learning, to check the behaviour of the club members and nonmembers in the grocery store.\n",
    "\n",
    "So there will be two clusters of observations.\n",
    "\n",
    "The goal of clustering algorithms is to identify those latent groupings of observations, which done well allow us to predict class of observations even without a target vector.\n",
    "\n",
    "## 19.1 Clustering using K-Means\n",
    "\n",
    "Grouping observations into k groups:"
   ]
  },
  {
   "cell_type": "code",
   "execution_count": 1,
   "id": "478bfb62-4889-4ecc-8167-6fc85bb05f92",
   "metadata": {},
   "outputs": [],
   "source": [
    "# loading the libraries\n",
    "\n",
    "from sklearn import datasets\n",
    "from sklearn.preprocessing import StandardScaler\n",
    "from sklearn.cluster import KMeans"
   ]
  },
  {
   "cell_type": "code",
   "execution_count": 2,
   "id": "601c66c8-c312-42f5-816f-119f3d810b5b",
   "metadata": {},
   "outputs": [],
   "source": [
    "# loading the data\n",
    "\n",
    "iris = datasets.load_iris()\n",
    "features = iris.data"
   ]
  },
  {
   "cell_type": "code",
   "execution_count": 3,
   "id": "37502f60-7ec0-4fc5-97db-c3288b197560",
   "metadata": {},
   "outputs": [],
   "source": [
    "# Standardize the features\n",
    "\n",
    "scaler = StandardScaler()\n",
    "features_std = scaler.fit_transform(features)"
   ]
  },
  {
   "cell_type": "code",
   "execution_count": 4,
   "id": "287697a9-a858-4f8e-8997-f3b784c0d9f6",
   "metadata": {},
   "outputs": [],
   "source": [
    "# create a k-mean object\n",
    "\n",
    "cluster = KMeans(n_clusters = 3, random_state = 0)"
   ]
  },
  {
   "cell_type": "code",
   "execution_count": 5,
   "id": "f429867f-458d-4c33-8b12-cbaf7c640c3d",
   "metadata": {},
   "outputs": [
    {
     "name": "stderr",
     "output_type": "stream",
     "text": [
      "/Users/dheepthireddy/anaconda3/lib/python3.11/site-packages/sklearn/cluster/_kmeans.py:1412: FutureWarning: The default value of `n_init` will change from 10 to 'auto' in 1.4. Set the value of `n_init` explicitly to suppress the warning\n",
      "  super()._check_params_vs_input(X, default_n_init=10)\n"
     ]
    }
   ],
   "source": [
    "# training the model\n",
    "\n",
    "model = cluster.fit(features_std)"
   ]
  },
  {
   "cell_type": "markdown",
   "id": "05303eb6-00e0-4667-b264-039b9a4bf3d7",
   "metadata": {},
   "source": [
    "K-means is one of the most common clustering techniques, this algorithm attempts to group observations into k groups, with each group roughly having equal variance.\n",
    "1. k cluster \"center\" points are created at random locations.\n",
    "2. for each observation:\n",
    "   a. The distance between each observation and k center points is calculated.\n",
    "   b. The observation is assigned to the cluster of the nearest center point.\n",
    "3. Center points are moved to the means(i.e., centers) of thier respective clusters.\n",
    "4. Step 2 and 3 are repeated until no observation changes in cluster.\n"
   ]
  },
  {
   "cell_type": "code",
   "execution_count": 6,
   "id": "c3903de8-5913-4a3a-8d6a-116f9fb7444a",
   "metadata": {},
   "outputs": [
    {
     "data": {
      "text/plain": [
       "array([1, 1, 1, 1, 1, 1, 1, 1, 1, 1, 1, 1, 1, 1, 1, 1, 1, 1, 1, 1, 1, 1,\n",
       "       1, 1, 1, 1, 1, 1, 1, 1, 1, 1, 1, 1, 1, 1, 1, 1, 1, 1, 1, 1, 1, 1,\n",
       "       1, 1, 1, 1, 1, 1, 2, 2, 2, 0, 0, 0, 2, 0, 0, 0, 0, 0, 0, 0, 0, 2,\n",
       "       0, 0, 0, 0, 2, 0, 0, 0, 0, 2, 2, 2, 0, 0, 0, 0, 0, 0, 0, 2, 2, 0,\n",
       "       0, 0, 0, 0, 0, 0, 0, 0, 0, 0, 0, 0, 2, 0, 2, 2, 2, 2, 0, 2, 2, 2,\n",
       "       2, 2, 2, 0, 0, 2, 2, 2, 2, 0, 2, 0, 2, 0, 2, 2, 0, 2, 2, 2, 2, 2,\n",
       "       2, 0, 0, 2, 2, 2, 0, 2, 2, 2, 0, 2, 2, 2, 0, 2, 2, 0], dtype=int32)"
      ]
     },
     "execution_count": 6,
     "metadata": {},
     "output_type": "execute_result"
    }
   ],
   "source": [
    "# View predict class\n",
    "model.labels_"
   ]
  },
  {
   "cell_type": "code",
   "execution_count": 7,
   "id": "85262b96-0b91-4686-8502-2609ee05b940",
   "metadata": {},
   "outputs": [
    {
     "data": {
      "text/plain": [
       "array([0, 0, 0, 0, 0, 0, 0, 0, 0, 0, 0, 0, 0, 0, 0, 0, 0, 0, 0, 0, 0, 0,\n",
       "       0, 0, 0, 0, 0, 0, 0, 0, 0, 0, 0, 0, 0, 0, 0, 0, 0, 0, 0, 0, 0, 0,\n",
       "       0, 0, 0, 0, 0, 0, 1, 1, 1, 1, 1, 1, 1, 1, 1, 1, 1, 1, 1, 1, 1, 1,\n",
       "       1, 1, 1, 1, 1, 1, 1, 1, 1, 1, 1, 1, 1, 1, 1, 1, 1, 1, 1, 1, 1, 1,\n",
       "       1, 1, 1, 1, 1, 1, 1, 1, 1, 1, 1, 1, 2, 2, 2, 2, 2, 2, 2, 2, 2, 2,\n",
       "       2, 2, 2, 2, 2, 2, 2, 2, 2, 2, 2, 2, 2, 2, 2, 2, 2, 2, 2, 2, 2, 2,\n",
       "       2, 2, 2, 2, 2, 2, 2, 2, 2, 2, 2, 2, 2, 2, 2, 2, 2, 2])"
      ]
     },
     "execution_count": 7,
     "metadata": {},
     "output_type": "execute_result"
    }
   ],
   "source": [
    "# View true class\n",
    "iris.target"
   ]
  },
  {
   "cell_type": "code",
   "execution_count": 8,
   "id": "e967b958-11fe-46b4-9106-44a1b959116d",
   "metadata": {},
   "outputs": [
    {
     "data": {
      "text/plain": [
       "array([2], dtype=int32)"
      ]
     },
     "execution_count": 8,
     "metadata": {},
     "output_type": "execute_result"
    }
   ],
   "source": [
    "# Create new observation\n",
    "new_observation = [[0.8, 0.8, 0.8, 0.8]]\n",
    "# Predict observation's cluster\n",
    "model.predict(new_observation)"
   ]
  },
  {
   "cell_type": "code",
   "execution_count": 9,
   "id": "0d629fc5",
   "metadata": {},
   "outputs": [
    {
     "data": {
      "text/plain": [
       "array([[-0.05021989, -0.88337647,  0.34773781,  0.2815273 ],\n",
       "       [-1.01457897,  0.85326268, -1.30498732, -1.25489349],\n",
       "       [ 1.13597027,  0.08842168,  0.99615451,  1.01752612]])"
      ]
     },
     "execution_count": 9,
     "metadata": {},
     "output_type": "execute_result"
    }
   ],
   "source": [
    "# View cluster centers\n",
    "model.cluster_centers_"
   ]
  },
  {
   "cell_type": "markdown",
   "id": "0217c795",
   "metadata": {},
   "source": [
    "## 19.2 Speeding Up K-means Clustering\n",
    "\n",
    "When we want to group observations into k grouops and k-means takes too long. We can do this by using mini-batch k-means"
   ]
  },
  {
   "cell_type": "code",
   "execution_count": 10,
   "id": "dae5a2ea",
   "metadata": {},
   "outputs": [],
   "source": [
    "# load libraries\n",
    "\n",
    "from sklearn import datasets\n",
    "from sklearn.preprocessing import StandardScaler\n",
    "from sklearn.cluster import MiniBatchKMeans"
   ]
  },
  {
   "cell_type": "code",
   "execution_count": 11,
   "id": "df35bc97",
   "metadata": {},
   "outputs": [],
   "source": [
    "# load batch\n",
    "\n",
    "iris = datasets.load_iris()\n",
    "features = iris.data"
   ]
  },
  {
   "cell_type": "code",
   "execution_count": 12,
   "id": "367f4665",
   "metadata": {},
   "outputs": [],
   "source": [
    "# Standardize the features\n",
    "\n",
    "scaler = StandardScaler()\n",
    "features_std = scaler.fit_transform(features)"
   ]
  },
  {
   "cell_type": "code",
   "execution_count": 13,
   "id": "6365f868",
   "metadata": {},
   "outputs": [],
   "source": [
    "# creating k-means object\n",
    "\n",
    "cluster = MiniBatchKMeans(n_clusters = 3, random_state = 0, batch_size = 100)"
   ]
  },
  {
   "cell_type": "code",
   "execution_count": 14,
   "id": "50cf6465",
   "metadata": {},
   "outputs": [
    {
     "name": "stderr",
     "output_type": "stream",
     "text": [
      "/Users/dheepthireddy/anaconda3/lib/python3.11/site-packages/sklearn/cluster/_kmeans.py:1930: FutureWarning: The default value of `n_init` will change from 3 to 'auto' in 1.4. Set the value of `n_init` explicitly to suppress the warning\n",
      "  super()._check_params_vs_input(X, default_n_init=3)\n"
     ]
    }
   ],
   "source": [
    "# Train model\n",
    "\n",
    "model = cluster.fit(features_std)"
   ]
  },
  {
   "cell_type": "markdown",
   "id": "3eb31de3",
   "metadata": {},
   "source": [
    "mini-batch k-means is conducted on only a random sample of observations, this reduces the time required for algorithm to find convergence with small cost in quality. The larger the batch, the more computationally costly the training process.\n",
    "\n",
    "## 19.3 Clustering Using Meanshift\n",
    "\n",
    "Grouping observations without assuming the number of clusters or thier shape.\n",
    "\n",
    "Using meanshift clustering:"
   ]
  },
  {
   "cell_type": "code",
   "execution_count": 15,
   "id": "fa132664",
   "metadata": {},
   "outputs": [],
   "source": [
    "# loading libraries\n",
    "\n",
    "from sklearn import datasets\n",
    "from sklearn.preprocessing import StandardScaler\n",
    "from sklearn.cluster import MeanShift"
   ]
  },
  {
   "cell_type": "code",
   "execution_count": 16,
   "id": "52b97aa0",
   "metadata": {},
   "outputs": [],
   "source": [
    "# loading the data\n",
    "\n",
    "iris = datasets.load_iris()\n",
    "features = iris.data"
   ]
  },
  {
   "cell_type": "code",
   "execution_count": 17,
   "id": "860a0786",
   "metadata": {},
   "outputs": [],
   "source": [
    "# Standardizing features\n",
    "\n",
    "scaler = StandardScaler()\n",
    "features_std = scaler.fit_transform(features)"
   ]
  },
  {
   "cell_type": "code",
   "execution_count": 18,
   "id": "68f2893b",
   "metadata": {},
   "outputs": [],
   "source": [
    "# Creating meanshift object\n",
    "\n",
    "cluster = MeanShift(n_jobs = -1)"
   ]
  },
  {
   "cell_type": "code",
   "execution_count": 19,
   "id": "26fb18bb",
   "metadata": {},
   "outputs": [],
   "source": [
    "# Train model\n",
    "\n",
    "model = cluster.fit(features_std)"
   ]
  },
  {
   "cell_type": "markdown",
   "id": "2b669774",
   "metadata": {},
   "source": [
    "One of the disadvantage of k-means clustering is we set the no of clusters prior to training, and the method makes assunmption about the shape of the clusters, Meanshift clustering algorithm do not have these limitations.\n",
    "Parameters of meanshift:\n",
    "1. bandwidth - sets the radius\n",
    "2. sometimes there are no observations included in the algorithm, by default meanshift assigns all these \"orphan\" observations to the kernel of the nearst observation.\n",
    "\n",
    "## 19.4 Clustering Using DBSCAN\n",
    "\n",
    "Grouping observations into clusters of high density:"
   ]
  },
  {
   "cell_type": "code",
   "execution_count": 20,
   "id": "faa166a5",
   "metadata": {},
   "outputs": [],
   "source": [
    "# loading libraries\n",
    "\n",
    "from sklearn import datasets\n",
    "from sklearn.preprocessing import StandardScaler\n",
    "from sklearn.cluster import DBSCAN"
   ]
  },
  {
   "cell_type": "code",
   "execution_count": 21,
   "id": "ea3f62c8",
   "metadata": {},
   "outputs": [],
   "source": [
    "# loading data\n",
    "\n",
    "iris = datasets.load_iris()\n",
    "features = iris.data"
   ]
  },
  {
   "cell_type": "code",
   "execution_count": 22,
   "id": "5f0c0070",
   "metadata": {},
   "outputs": [],
   "source": [
    "# Standardizing features\n",
    "\n",
    "scaler = StandardScaler()\n",
    "features_std = scaler.fit_transform(features)"
   ]
  },
  {
   "cell_type": "code",
   "execution_count": 23,
   "id": "a38b09ec",
   "metadata": {},
   "outputs": [],
   "source": [
    "# create meanshift object\n",
    "\n",
    "cluster = DBSCAN(n_jobs = -1)"
   ]
  },
  {
   "cell_type": "code",
   "execution_count": 24,
   "id": "c4f1a729",
   "metadata": {},
   "outputs": [],
   "source": [
    "# train model\n",
    "\n",
    "model = cluster.fit(features_std)"
   ]
  },
  {
   "cell_type": "markdown",
   "id": "0548d4e0",
   "metadata": {},
   "source": [
    "DBSCAN works with the idea that clusters will be areas where many observations are densely packed together and makes no assumption of cluster shape. \n",
    "\n",
    "Any observation close to a cluster but not a core sample is considered part of a cluster, and any observation not close to the cluster is labeled as an outlier.\n",
    "\n",
    "DBSCAN has 3 main parameters to set:\n",
    "1. eps: The maximum distance from an observation to another observation to be considered as its neighbor.\n",
    "2. min_samples: the minimum n umber of observations less than eps distance from an observation for it to be considered a core observation.\n",
    "3. metric: the distance metric used by eps\n",
    "\n",
    "\n",
    "In our training data, 2 clusters are identified, 0 and 1, while outlier observations are labeled as -1."
   ]
  },
  {
   "cell_type": "code",
   "execution_count": 25,
   "id": "6f1bae5d",
   "metadata": {},
   "outputs": [
    {
     "data": {
      "text/plain": [
       "array([ 0,  0,  0,  0,  0,  0,  0,  0,  0,  0,  0,  0,  0,  0, -1, -1,  0,\n",
       "        0,  0,  0,  0,  0,  0,  0,  0,  0,  0,  0,  0,  0,  0,  0, -1, -1,\n",
       "        0,  0,  0,  0,  0,  0,  0, -1,  0,  0,  0,  0,  0,  0,  0,  0,  1,\n",
       "        1,  1,  1,  1,  1, -1, -1,  1, -1, -1,  1, -1,  1,  1,  1,  1,  1,\n",
       "       -1,  1,  1,  1, -1,  1,  1,  1,  1,  1,  1,  1,  1,  1,  1,  1,  1,\n",
       "       -1,  1, -1,  1,  1,  1,  1,  1, -1,  1,  1,  1,  1, -1,  1, -1,  1,\n",
       "        1,  1,  1, -1, -1, -1, -1, -1,  1,  1,  1,  1, -1,  1,  1, -1, -1,\n",
       "       -1,  1,  1, -1,  1,  1, -1,  1,  1,  1, -1, -1, -1,  1,  1,  1, -1,\n",
       "       -1,  1,  1,  1,  1,  1,  1,  1,  1,  1,  1,  1, -1,  1])"
      ]
     },
     "execution_count": 25,
     "metadata": {},
     "output_type": "execute_result"
    }
   ],
   "source": [
    "# show cluster membership\n",
    "\n",
    "model.labels_"
   ]
  },
  {
   "cell_type": "markdown",
   "id": "65643fea",
   "metadata": {},
   "source": [
    "## 19.5 Clustering Using Hierarchial Merging\n",
    "\n",
    "Grouping observations using hierarchy of clusters, Using agglomerative clustering:"
   ]
  },
  {
   "cell_type": "code",
   "execution_count": 27,
   "id": "839ca790",
   "metadata": {},
   "outputs": [],
   "source": [
    "# loading libraries\n",
    "\n",
    "from sklearn import datasets\n",
    "from sklearn.preprocessing import StandardScaler\n",
    "from sklearn.cluster import AgglomerativeClustering"
   ]
  },
  {
   "cell_type": "code",
   "execution_count": 28,
   "id": "a886db6b",
   "metadata": {},
   "outputs": [],
   "source": [
    "# loading data\n",
    "\n",
    "iris = datasets.load_iris()\n",
    "features = iris.data"
   ]
  },
  {
   "cell_type": "code",
   "execution_count": 29,
   "id": "f5ec0bef",
   "metadata": {},
   "outputs": [],
   "source": [
    "# Standardizing features\n",
    "\n",
    "scaler = StandardScaler()\n",
    "features_std = scaler.fit_transform(features)"
   ]
  },
  {
   "cell_type": "code",
   "execution_count": 30,
   "id": "2b926110",
   "metadata": {},
   "outputs": [],
   "source": [
    "# create meanshift object\n",
    "\n",
    "cluster = AgglomerativeClustering(n_clusters = 3)"
   ]
  },
  {
   "cell_type": "code",
   "execution_count": null,
   "id": "af47ac4b",
   "metadata": {},
   "outputs": [],
   "source": [
    "# trainig the model\n",
    "\n",
    "model = cluster.fit(features_std)"
   ]
  },
  {
   "cell_type": "markdown",
   "id": "0205334a",
   "metadata": {},
   "source": [
    "Agglomerative Clustering is a powerful, flexible hierarchial clustering algorithm.\n",
    "\n",
    "In agglomerative clustering, all observations start as their own clusters. Next, clusters meeting some criteria are merged together. This process is repeated, growing clusters until some end point is reached. In scikit-learn, AgglomerativeClustering uses the linkage parameter to determine the merging strategy to minimize the following:\n",
    "1. Varianceofmergedclusters(ward)\n",
    "2. Averagedistancebetweenobservationsfrompairsofclusters(average)\n",
    "3. Maximumdistancebetweenobservationsfrompairsofclusters (complete)\n",
    "\n",
    "Two important parameters:\n",
    "1. affinity: determines the distance metric used for linkage (minkowski, euclidean, etc.).\n",
    "2. n_clusters: sets the number of clusters the clustering algorithm will attempt to find. That is, clusters are successively merged until there are only n_clusters remaining.\n",
    "\n",
    "labels_ to see the cluster in which every observation is assigned:"
   ]
  },
  {
   "cell_type": "code",
   "execution_count": 31,
   "id": "5a46d9b9",
   "metadata": {},
   "outputs": [
    {
     "data": {
      "text/plain": [
       "array([ 0,  0,  0,  0,  0,  0,  0,  0,  0,  0,  0,  0,  0,  0, -1, -1,  0,\n",
       "        0,  0,  0,  0,  0,  0,  0,  0,  0,  0,  0,  0,  0,  0,  0, -1, -1,\n",
       "        0,  0,  0,  0,  0,  0,  0, -1,  0,  0,  0,  0,  0,  0,  0,  0,  1,\n",
       "        1,  1,  1,  1,  1, -1, -1,  1, -1, -1,  1, -1,  1,  1,  1,  1,  1,\n",
       "       -1,  1,  1,  1, -1,  1,  1,  1,  1,  1,  1,  1,  1,  1,  1,  1,  1,\n",
       "       -1,  1, -1,  1,  1,  1,  1,  1, -1,  1,  1,  1,  1, -1,  1, -1,  1,\n",
       "        1,  1,  1, -1, -1, -1, -1, -1,  1,  1,  1,  1, -1,  1,  1, -1, -1,\n",
       "       -1,  1,  1, -1,  1,  1, -1,  1,  1,  1, -1, -1, -1,  1,  1,  1, -1,\n",
       "       -1,  1,  1,  1,  1,  1,  1,  1,  1,  1,  1,  1, -1,  1])"
      ]
     },
     "execution_count": 31,
     "metadata": {},
     "output_type": "execute_result"
    }
   ],
   "source": [
    "# to show cluster membership\n",
    "\n",
    "model.labels_"
   ]
  },
  {
   "cell_type": "code",
   "execution_count": null,
   "id": "54ad002a",
   "metadata": {},
   "outputs": [],
   "source": []
  },
  {
   "cell_type": "code",
   "execution_count": null,
   "id": "926f346b",
   "metadata": {},
   "outputs": [],
   "source": []
  },
  {
   "cell_type": "code",
   "execution_count": null,
   "id": "d8a0f957",
   "metadata": {},
   "outputs": [],
   "source": []
  },
  {
   "cell_type": "code",
   "execution_count": null,
   "id": "8183799f",
   "metadata": {},
   "outputs": [],
   "source": []
  }
 ],
 "metadata": {
  "kernelspec": {
   "display_name": "Python 3 (ipykernel)",
   "language": "python",
   "name": "python3"
  },
  "language_info": {
   "codemirror_mode": {
    "name": "ipython",
    "version": 3
   },
   "file_extension": ".py",
   "mimetype": "text/x-python",
   "name": "python",
   "nbconvert_exporter": "python",
   "pygments_lexer": "ipython3",
   "version": "3.11.5"
  }
 },
 "nbformat": 4,
 "nbformat_minor": 5
}
