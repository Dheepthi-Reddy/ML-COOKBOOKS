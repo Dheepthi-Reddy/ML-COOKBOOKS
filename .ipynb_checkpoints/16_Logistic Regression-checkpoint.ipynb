{
 "cells": [
  {
   "cell_type": "markdown",
   "id": "b5986ac1-08ee-493d-8f46-d4677ada3b90",
   "metadata": {},
   "source": [
    "# CHAPTER - 16: Logistic Regression\n",
    "\n",
    "- It is a widely used supervised classification technique.\n",
    "- It helps in predicting the observation of a certain class using a straightforward and well-understood approach."
   ]
  },
  {
   "cell_type": "markdown",
   "id": "438d2cea-7ae2-4b8b-8919-479f09a0ea34",
   "metadata": {},
   "source": [
    "## 16.1 Training a Binary Classifier\n",
    "\n",
    "Training a simple classifier model"
   ]
  },
  {
   "cell_type": "code",
   "execution_count": 1,
   "id": "fb6d2dec-7f08-404f-b696-b68dd5be8c70",
   "metadata": {},
   "outputs": [],
   "source": [
    "# loading the libraries\n",
    "\n",
    "from sklearn.linear_model import LogisticRegression\n",
    "from sklearn import datasets\n",
    "from sklearn.preprocessing import StandardScaler"
   ]
  },
  {
   "cell_type": "code",
   "execution_count": 2,
   "id": "94d19abc-f1ee-4dcd-abeb-29196e6ed94f",
   "metadata": {},
   "outputs": [],
   "source": [
    "# loading data with only two classes\n",
    "\n",
    "iris = datasets.load_iris()\n",
    "features = iris.data[:100,:]\n",
    "target = iris.target[:100]"
   ]
  },
  {
   "cell_type": "code",
   "execution_count": 3,
   "id": "7eb4b737-bcdb-404d-97f3-79af18a3066d",
   "metadata": {},
   "outputs": [],
   "source": [
    "# standardize features\n",
    "\n",
    "scaler = StandardScaler()\n",
    "features_standardized = scaler.fit_transform(features)"
   ]
  },
  {
   "cell_type": "code",
   "execution_count": 4,
   "id": "b812a7e8-3978-4957-87f4-46f6f83e08fe",
   "metadata": {},
   "outputs": [],
   "source": [
    "# create logistic regression object\n",
    "\n",
    "logistic_regression = LogisticRegression(random_state = 0)"
   ]
  },
  {
   "cell_type": "code",
   "execution_count": 5,
   "id": "44ec8382-ee98-4d63-aebc-f59274f3a10e",
   "metadata": {},
   "outputs": [],
   "source": [
    "# training the model\n",
    "\n",
    "model = logistic_regression.fit(features_standardized, target)"
   ]
  },
  {
   "cell_type": "code",
   "execution_count": 6,
   "id": "1d026895-be78-4795-afb4-43e9d412f1ef",
   "metadata": {},
   "outputs": [],
   "source": [
    "# creating a new observation\n",
    "\n",
    "new_observation = [[0.5, 0.5, 0.5, 0.5]]"
   ]
  },
  {
   "cell_type": "code",
   "execution_count": 7,
   "id": "b2548ba4-cc62-4c59-b85f-ac5156231ddb",
   "metadata": {},
   "outputs": [
    {
     "data": {
      "text/plain": [
       "array([1])"
      ]
     },
     "execution_count": 7,
     "metadata": {},
     "output_type": "execute_result"
    }
   ],
   "source": [
    "# predicting class\n",
    "\n",
    "model.predict(new_observation)"
   ]
  },
  {
   "cell_type": "code",
   "execution_count": 8,
   "id": "44bf72b7-7ece-436d-800d-30caa064393f",
   "metadata": {},
   "outputs": [
    {
     "data": {
      "text/plain": [
       "array([[0.17738424, 0.82261576]])"
      ]
     },
     "execution_count": 8,
     "metadata": {},
     "output_type": "execute_result"
    }
   ],
   "source": [
    "# predictyed probabilities\n",
    "\n",
    "model.predict_proba(new_observation)"
   ]
  },
  {
   "cell_type": "markdown",
   "id": "79bcffba-7580-4e58-a36e-f379c52155e4",
   "metadata": {},
   "source": [
    "## 16.2 Training a Multiclass Classifier\n",
    "\n",
    "Training a classifer model when more than 2 classes are given"
   ]
  },
  {
   "cell_type": "code",
   "execution_count": 9,
   "id": "b11376d5-a8a4-412c-9179-d721af561c0f",
   "metadata": {},
   "outputs": [],
   "source": [
    "# loading libraries\n",
    "\n",
    "from sklearn.linear_model import LogisticRegression\n",
    "from sklearn import datasets\n",
    "from sklearn.preprocessing import StandardScaler"
   ]
  },
  {
   "cell_type": "code",
   "execution_count": null,
   "id": "9f5a238d-dc00-4678-ba7e-693a306153e7",
   "metadata": {},
   "outputs": [],
   "source": [
    "# loading data\n",
    "\n",
    "iris = datasets.load_iris()\n",
    "features = iris.data\n",
    "target = iris.target"
   ]
  },
  {
   "cell_type": "code",
   "execution_count": 10,
   "id": "7f6417a8-6e5e-455a-9208-12aa5daeebf9",
   "metadata": {},
   "outputs": [],
   "source": [
    "# Standardize features\n",
    "\n",
    "scaler = StandardScaler()\n",
    "features_standardized = scaler.fit_transform(features)"
   ]
  },
  {
   "cell_type": "code",
   "execution_count": 11,
   "id": "6ce64ac9-be5f-4e20-94fe-7807fd326c01",
   "metadata": {},
   "outputs": [],
   "source": [
    "# create one-vs-rest logistic regression object\n",
    "\n",
    "logistic_regression = LogisticRegression(random_state = 0, multi_class = \"ovr\")"
   ]
  },
  {
   "cell_type": "code",
   "execution_count": 12,
   "id": "22c6ad2c-15ba-4efc-8470-a30be805df8e",
   "metadata": {},
   "outputs": [],
   "source": [
    "# training the model\n",
    "\n",
    "model = logistic_regression.fit(features_standardized, target)"
   ]
  },
  {
   "cell_type": "markdown",
   "id": "c73d9c2f-a40f-40e8-a06b-144c14284c0b",
   "metadata": {},
   "source": [
    "## 16.3 Reducing Variance Through Regularization\n",
    "\n",
    "If we have to reduce the variance of a logistic regression model."
   ]
  },
  {
   "cell_type": "code",
   "execution_count": 13,
   "id": "808eaac2-ed4e-4f88-8e72-cbd89d70c558",
   "metadata": {},
   "outputs": [],
   "source": [
    "# loading libraries\n",
    "\n",
    "from sklearn.linear_model import LogisticRegressionCV\n",
    "from sklearn import datasets\n",
    "from sklearn.preprocessing import StandardScaler"
   ]
  },
  {
   "cell_type": "code",
   "execution_count": 14,
   "id": "7cac0348-3812-41db-9bee-da72855e8566",
   "metadata": {},
   "outputs": [],
   "source": [
    "# loading the data\n",
    "\n",
    "iris = datasets.load_iris()\n",
    "features = iris.data\n",
    "target = iris.target"
   ]
  },
  {
   "cell_type": "code",
   "execution_count": 15,
   "id": "cf2f47d7-5177-4f2b-b4a8-68d88366cd9e",
   "metadata": {},
   "outputs": [],
   "source": [
    "# Standardize features\n",
    "\n",
    "scaler = StandardScaler()\n",
    "features_standardized = scaler.fit_transform(features)"
   ]
  },
  {
   "cell_type": "code",
   "execution_count": 16,
   "id": "2c04b083-a978-433b-a879-f022cdde8a52",
   "metadata": {},
   "outputs": [],
   "source": [
    "# create decision tree classifier object\n",
    "\n",
    "logistic_regression = LogisticRegressionCV(penalty = 'l2',\n",
    "                                           Cs = 10,\n",
    "                                           random_state = 0,\n",
    "                                           n_jobs = -1)"
   ]
  },
  {
   "cell_type": "code",
   "execution_count": 17,
   "id": "8a641a7c-5f59-442e-888d-52ba83c2bc13",
   "metadata": {},
   "outputs": [],
   "source": [
    "# train model\n",
    "\n",
    "model = logistic_regression.fit(features_standardized, target)"
   ]
  },
  {
   "cell_type": "markdown",
   "id": "e83ba53a-a2d9-4a9c-b693-6e5a1400f964",
   "metadata": {},
   "source": [
    "## 16.4 Training a Classifier on Very Large Data\n",
    "\n",
    "Training a simple classifier model on a very large data."
   ]
  },
  {
   "cell_type": "code",
   "execution_count": 19,
   "id": "805d66a8-7327-4a34-81a0-126607366c98",
   "metadata": {},
   "outputs": [],
   "source": [
    "# loading the libraries\n",
    "\n",
    "from sklearn.linear_model import LogisticRegression\n",
    "from sklearn import datasets\n",
    "from sklearn.preprocessing import StandardScaler"
   ]
  },
  {
   "cell_type": "code",
   "execution_count": 20,
   "id": "67516c14-e978-4b4b-897b-ca87bc7f6c3a",
   "metadata": {},
   "outputs": [],
   "source": [
    "# loading the data\n",
    "\n",
    "iris = datasets.load_iris()\n",
    "features = iris.data\n",
    "target = iris.target"
   ]
  },
  {
   "cell_type": "code",
   "execution_count": 21,
   "id": "ed6208ab-b73f-44ad-ac1f-6f03d6c6910a",
   "metadata": {},
   "outputs": [],
   "source": [
    "# Standardize features\n",
    "\n",
    "scaler = StandardScaler()\n",
    "features_standardized = scaler.fit_transform(features)"
   ]
  },
  {
   "cell_type": "code",
   "execution_count": 22,
   "id": "0d61f0b9-eaf0-4ff4-98ba-15426b48150d",
   "metadata": {},
   "outputs": [],
   "source": [
    "# creating logistic regression object\n",
    "\n",
    "logistic_regression = LogisticRegression(random_state = 0, solver = \"sag\")"
   ]
  },
  {
   "cell_type": "code",
   "execution_count": 23,
   "id": "e2a8fc2a-effa-4ddb-b8ea-00b702bb1e00",
   "metadata": {},
   "outputs": [],
   "source": [
    "# Train model\n",
    "\n",
    "model = logistic_regression.fit(features_standardized, target)"
   ]
  },
  {
   "cell_type": "markdown",
   "id": "ec04251b-2d44-4d41-b3b5-f6a488504300",
   "metadata": {},
   "source": [
    "## 16.5 Handling Imbalanced classes\n",
    "\n",
    "Training a simple classifier model"
   ]
  },
  {
   "cell_type": "code",
   "execution_count": 1,
   "id": "d5a746a6-c4de-495f-a6a6-77f9087fa006",
   "metadata": {},
   "outputs": [],
   "source": [
    "# load libraries\n",
    "\n",
    "import numpy as np\n",
    "from sklearn.linear_model import LogisticRegression\n",
    "from sklearn import datasets\n",
    "from sklearn.preprocessing import StandardScaler"
   ]
  },
  {
   "cell_type": "code",
   "execution_count": 3,
   "id": "2de885f8-69fa-47b3-8fa6-5c074f83091a",
   "metadata": {},
   "outputs": [],
   "source": [
    "# loading the data\n",
    "\n",
    "iris = datasets.load_iris()\n",
    "features = iris.data\n",
    "target = iris.target"
   ]
  },
  {
   "cell_type": "code",
   "execution_count": 4,
   "id": "cee9d953-873e-4f1d-acec-9e2afeb33f2a",
   "metadata": {},
   "outputs": [],
   "source": [
    "# making the class highly imbalanced by removing first 40 observations\n",
    "\n",
    "features = features[40:,:]\n",
    "target = target[40:]"
   ]
  },
  {
   "cell_type": "code",
   "execution_count": 5,
   "id": "5bcee788-5301-4e15-a725-d67c3ec8a297",
   "metadata": {},
   "outputs": [],
   "source": [
    "# craeting a target vector indicating if class 0, otherwise 1\n",
    "\n",
    "target = np.where((target == 0), 0, 1)"
   ]
  },
  {
   "cell_type": "code",
   "execution_count": 6,
   "id": "92e08724-d925-4de9-8d94-c0fec43d9f5e",
   "metadata": {},
   "outputs": [],
   "source": [
    "# Standardize features\n",
    "\n",
    "scaler = StandardScaler()\n",
    "features_standardized = scaler.fit_transform(features)"
   ]
  },
  {
   "cell_type": "code",
   "execution_count": 7,
   "id": "7aebbfab-642c-4995-b62b-f65cfd1662c9",
   "metadata": {},
   "outputs": [],
   "source": [
    "# creating decision tree classifier object\n",
    "\n",
    "logistic_regression = LogisticRegression(random_state = 0, class_weight = \"balanced\")"
   ]
  },
  {
   "cell_type": "code",
   "execution_count": 8,
   "id": "c179d9f9-4b07-4f23-9416-d632bfecb901",
   "metadata": {},
   "outputs": [],
   "source": [
    "# Train model\n",
    "\n",
    "model = logistic_regression.fit(features_standardized, target)"
   ]
  },
  {
   "cell_type": "markdown",
   "id": "1c5a2faa-0192-47c4-9f97-43ef439ebb64",
   "metadata": {},
   "source": [
    "Logistic regression has built-in methods of handling imbalanced classes, if there are highly imbalanced classes we have a option to use class_weight parameter"
   ]
  },
  {
   "cell_type": "code",
   "execution_count": null,
   "id": "52c36e9b-3f7a-468c-a436-d1560bd59c5f",
   "metadata": {},
   "outputs": [],
   "source": []
  }
 ],
 "metadata": {
  "kernelspec": {
   "display_name": "Python 3 (ipykernel)",
   "language": "python",
   "name": "python3"
  },
  "language_info": {
   "codemirror_mode": {
    "name": "ipython",
    "version": 3
   },
   "file_extension": ".py",
   "mimetype": "text/x-python",
   "name": "python",
   "nbconvert_exporter": "python",
   "pygments_lexer": "ipython3",
   "version": "3.11.7"
  }
 },
 "nbformat": 4,
 "nbformat_minor": 5
}
