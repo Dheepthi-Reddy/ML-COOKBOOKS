{
 "cells": [
  {
   "cell_type": "markdown",
   "id": "a9b883b0-0074-4dc8-9617-2934b26f4f05",
   "metadata": {},
   "source": [
    "# CHAPTER - 19: Clustering\n",
    "\n",
    "In supervised machine learning, we have access to both features and targets, this is not always the case. Sometimes we only know the features.\n",
    "\n",
    "For example: We can not break up the sales of a grocery store by weather a shopper is a memmber of discount club or not using supervised machine learning, because we don't have a target to train and evaluate our models.\n",
    "\n",
    "We can use unsupervised learning, to check the behaviour of the club members and nonmembers in the grocery store.\n",
    "\n",
    "So there will be two clusters of observations.\n",
    "\n",
    "The goal of clustering algorithms is to identify those latent groupings of observations, which done well allow us to predict class of observations even without a target vector.\n",
    "\n",
    "## 19.1 Clustering using K-Means\n",
    "\n",
    "Grouping observations into k groups:"
   ]
  },
  {
   "cell_type": "code",
   "execution_count": 1,
   "id": "478bfb62-4889-4ecc-8167-6fc85bb05f92",
   "metadata": {},
   "outputs": [],
   "source": [
    "# loading the libraries\n",
    "\n",
    "from sklearn import datasets\n",
    "from sklearn.preprocessing import StandardScaler\n",
    "from sklearn.cluster import KMeans"
   ]
  },
  {
   "cell_type": "code",
   "execution_count": 2,
   "id": "601c66c8-c312-42f5-816f-119f3d810b5b",
   "metadata": {},
   "outputs": [],
   "source": [
    "# loading the data\n",
    "\n",
    "iris = datasets.load_iris()\n",
    "features = iris.data"
   ]
  },
  {
   "cell_type": "code",
   "execution_count": 3,
   "id": "37502f60-7ec0-4fc5-97db-c3288b197560",
   "metadata": {},
   "outputs": [],
   "source": [
    "# Standardize the features\n",
    "\n",
    "scaler = StandardScaler()\n",
    "features_std = scaler.fit_transform(features)"
   ]
  },
  {
   "cell_type": "code",
   "execution_count": 5,
   "id": "287697a9-a858-4f8e-8997-f3b784c0d9f6",
   "metadata": {},
   "outputs": [],
   "source": [
    "# create a k-mean object\n",
    "\n",
    "cluster = KMeans(n_clusters = 3, random_state = 0)"
   ]
  },
  {
   "cell_type": "code",
   "execution_count": 6,
   "id": "f429867f-458d-4c33-8b12-cbaf7c640c3d",
   "metadata": {},
   "outputs": [
    {
     "name": "stderr",
     "output_type": "stream",
     "text": [
      "C:\\Users\\HP\\anaconda3\\Lib\\site-packages\\sklearn\\cluster\\_kmeans.py:870: FutureWarning: The default value of `n_init` will change from 10 to 'auto' in 1.4. Set the value of `n_init` explicitly to suppress the warning\n",
      "  warnings.warn(\n",
      "C:\\Users\\HP\\anaconda3\\Lib\\site-packages\\sklearn\\cluster\\_kmeans.py:1382: UserWarning: KMeans is known to have a memory leak on Windows with MKL, when there are less chunks than available threads. You can avoid it by setting the environment variable OMP_NUM_THREADS=1.\n",
      "  warnings.warn(\n"
     ]
    }
   ],
   "source": [
    "# training the model\n",
    "\n",
    "model = cluster.fit(features_std)"
   ]
  },
  {
   "cell_type": "markdown",
   "id": "05303eb6-00e0-4667-b264-039b9a4bf3d7",
   "metadata": {},
   "source": [
    "K-means is one of the most common clustering techniques, this algorithm attempts to group observations into k groups, with each group roughly having equal variance.\n",
    "1. k cluster \"center\" points are created at random locations.\n",
    "2. for each observation:\n",
    "   a. The distance between each observation and k center points is calculated.\n",
    "   b. The observation is assigned to the cluster of the nearest center point.\n",
    "3. Center points are moved to the means(i.e., centers) of thier respective clusters.\n",
    "4. Step 2 and 3 are repeated until no observation changes in cluster.\n"
   ]
  },
  {
   "cell_type": "code",
   "execution_count": null,
   "id": "c3903de8-5913-4a3a-8d6a-116f9fb7444a",
   "metadata": {},
   "outputs": [],
   "source": []
  },
  {
   "cell_type": "code",
   "execution_count": null,
   "id": "85262b96-0b91-4686-8502-2609ee05b940",
   "metadata": {},
   "outputs": [],
   "source": []
  },
  {
   "cell_type": "code",
   "execution_count": null,
   "id": "e967b958-11fe-46b4-9106-44a1b959116d",
   "metadata": {},
   "outputs": [],
   "source": []
  }
 ],
 "metadata": {
  "kernelspec": {
   "display_name": "Python 3 (ipykernel)",
   "language": "python",
   "name": "python3"
  },
  "language_info": {
   "codemirror_mode": {
    "name": "ipython",
    "version": 3
   },
   "file_extension": ".py",
   "mimetype": "text/x-python",
   "name": "python",
   "nbconvert_exporter": "python",
   "pygments_lexer": "ipython3",
   "version": "3.11.7"
  }
 },
 "nbformat": 4,
 "nbformat_minor": 5
}
