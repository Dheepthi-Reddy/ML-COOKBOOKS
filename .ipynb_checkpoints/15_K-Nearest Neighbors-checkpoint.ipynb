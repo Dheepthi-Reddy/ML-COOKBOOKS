{
 "cells": [
  {
   "cell_type": "markdown",
   "id": "de6952aa",
   "metadata": {},
   "source": [
    "# CHAPTER - 15: K-Nearest Neighbors\n",
    "\n",
    "- K-Nearest Neighbors is simplest and most commonly used classifier in supervised machine learning\n",
    "- KNN is considered lazy learner, it doesn't train a model to make predictions, instead the observaion is predicted to be the class of that of the largest proportion of the k nearest neighbors."
   ]
  },
  {
   "cell_type": "markdown",
   "id": "d3c554ae",
   "metadata": {},
   "source": [
    "## 15.1 Finding an Observation's Nearest Neighbors\n",
    "\n",
    "Finding an observations nearest observations"
   ]
  },
  {
   "cell_type": "code",
   "execution_count": 2,
   "id": "a63d67a2",
   "metadata": {},
   "outputs": [],
   "source": [
    "# loading libraries\n",
    "\n",
    "from sklearn import datasets\n",
    "from sklearn.neighbors import NearestNeighbors\n",
    "from sklearn.preprocessing import StandardScaler"
   ]
  },
  {
   "cell_type": "code",
   "execution_count": 3,
   "id": "328e52d1",
   "metadata": {},
   "outputs": [],
   "source": [
    "# loading dataset\n",
    "\n",
    "iris = datasets.load_iris()\n",
    "features = iris.data"
   ]
  },
  {
   "cell_type": "code",
   "execution_count": 4,
   "id": "dca4d87b",
   "metadata": {},
   "outputs": [],
   "source": [
    "# creating standardizer\n",
    "\n",
    "standardizer = StandardScaler()"
   ]
  },
  {
   "cell_type": "code",
   "execution_count": 5,
   "id": "f0448515",
   "metadata": {},
   "outputs": [],
   "source": [
    "# standardizing the features\n",
    "\n",
    "features_standardized = standardizer.fit_transform(features)"
   ]
  },
  {
   "cell_type": "code",
   "execution_count": 6,
   "id": "85b32b5a",
   "metadata": {},
   "outputs": [],
   "source": [
    "# getting two nearest neighbors\n",
    "\n",
    "nearest_neighbors = NearestNeighbors(n_neighbors = 2).fit(features_standardized)"
   ]
  },
  {
   "cell_type": "code",
   "execution_count": 7,
   "id": "83c135aa",
   "metadata": {},
   "outputs": [],
   "source": [
    "# creating an observation\n",
    "\n",
    "new_observation = [1, 1, 1, 1]"
   ]
  },
  {
   "cell_type": "code",
   "execution_count": 8,
   "id": "87ced122",
   "metadata": {},
   "outputs": [],
   "source": [
    "# finding the distance and indices of the observation's nearest neighbors\n",
    "\n",
    "distances, indices = nearest_neighbors.kneighbors([new_observation])\n",
    "\n",
    "# indices contains the locations of the observations in our dataset that are closest"
   ]
  },
  {
   "cell_type": "code",
   "execution_count": 9,
   "id": "22aa59d6",
   "metadata": {},
   "outputs": [
    {
     "data": {
      "text/plain": [
       "array([[[1.03800476, 0.55861082, 1.10378283, 1.18556721],\n",
       "        [0.79566902, 0.32841405, 0.76275827, 1.05393502]]])"
      ]
     },
     "execution_count": 9,
     "metadata": {},
     "output_type": "execute_result"
    }
   ],
   "source": [
    "# view the nearest neighbors\n",
    "\n",
    "features_standardized[indices]"
   ]
  },
  {
   "cell_type": "code",
   "execution_count": 10,
   "id": "664c8d54",
   "metadata": {},
   "outputs": [],
   "source": [
    "# we can set distance metric using metric parameter\n",
    "\n",
    "nearestneighbors_euclidean = NearestNeighbors(n_neighbors = 2, metric = 'euclidean').fit(features_standardized)"
   ]
  },
  {
   "cell_type": "code",
   "execution_count": 11,
   "id": "2661ef1b",
   "metadata": {},
   "outputs": [
    {
     "data": {
      "text/plain": [
       "array([[0.49140089, 0.74294782]])"
      ]
     },
     "execution_count": 11,
     "metadata": {},
     "output_type": "execute_result"
    }
   ],
   "source": [
    "# the distance varuable has the actual distance measurement\n",
    "\n",
    "distances"
   ]
  },
  {
   "cell_type": "code",
   "execution_count": 12,
   "id": "b01ec9f0",
   "metadata": {},
   "outputs": [],
   "source": [
    "# we can use kneighbors_graph to create a matrix showing each observations nearest neighbors\n",
    "\n",
    "nearestneighbors_euclidean = NearestNeighbors(n_neighbors = 3, metric = 'euclidean').fit(features_standardized)"
   ]
  },
  {
   "cell_type": "code",
   "execution_count": 14,
   "id": "acea1800",
   "metadata": {},
   "outputs": [],
   "source": [
    "nearest_neighbors_with_self = nearestneighbors_euclidean.kneighbors_graph(features_standardized).toarray()"
   ]
  },
  {
   "cell_type": "code",
   "execution_count": 15,
   "id": "1170855d",
   "metadata": {},
   "outputs": [],
   "source": [
    "# remove 1's marking an observation is a nearest neighbor to itself\n",
    "for i, x in enumerate(nearest_neighbors_with_self):\n",
    "    x[i] = 0"
   ]
  },
  {
   "cell_type": "code",
   "execution_count": 16,
   "id": "1266d515",
   "metadata": {},
   "outputs": [
    {
     "data": {
      "text/plain": [
       "array([0., 0., 0., 0., 0., 0., 0., 0., 0., 0., 0., 0., 0., 0., 0., 0., 0.,\n",
       "       1., 0., 0., 0., 0., 0., 0., 0., 0., 0., 1., 0., 0., 0., 0., 0., 0.,\n",
       "       0., 0., 0., 0., 0., 0., 0., 0., 0., 0., 0., 0., 0., 0., 0., 0., 0.,\n",
       "       0., 0., 0., 0., 0., 0., 0., 0., 0., 0., 0., 0., 0., 0., 0., 0., 0.,\n",
       "       0., 0., 0., 0., 0., 0., 0., 0., 0., 0., 0., 0., 0., 0., 0., 0., 0.,\n",
       "       0., 0., 0., 0., 0., 0., 0., 0., 0., 0., 0., 0., 0., 0., 0., 0., 0.,\n",
       "       0., 0., 0., 0., 0., 0., 0., 0., 0., 0., 0., 0., 0., 0., 0., 0., 0.,\n",
       "       0., 0., 0., 0., 0., 0., 0., 0., 0., 0., 0., 0., 0., 0., 0., 0., 0.,\n",
       "       0., 0., 0., 0., 0., 0., 0., 0., 0., 0., 0., 0., 0., 0.])"
      ]
     },
     "execution_count": 16,
     "metadata": {},
     "output_type": "execute_result"
    }
   ],
   "source": [
    "# to view first observations two nearest neighbors\n",
    "\n",
    "nearest_neighbors_with_self[0]"
   ]
  },
  {
   "cell_type": "markdown",
   "id": "30a181a1",
   "metadata": {},
   "source": [
    "## 15.2 Creating a K-Nearest Neighbors Classifier\n",
    "\n",
    "given an observation of unknown class, we need to predict its class based on class of its neighbors"
   ]
  },
  {
   "cell_type": "code",
   "execution_count": 17,
   "id": "43754d6f",
   "metadata": {},
   "outputs": [],
   "source": [
    "from sklearn.neighbors import KNeighborsClassifier\n",
    "from sklearn.preprocessing import StandardScaler\n",
    "from sklearn import datasets"
   ]
  },
  {
   "cell_type": "code",
   "execution_count": 19,
   "id": "9112ba22",
   "metadata": {},
   "outputs": [],
   "source": [
    "# loading the dataset\n",
    "\n",
    "iris = datasets.load_iris()\n",
    "X = iris.data\n",
    "y = iris.target"
   ]
  },
  {
   "cell_type": "code",
   "execution_count": 20,
   "id": "baea0670",
   "metadata": {},
   "outputs": [],
   "source": [
    "# creating Standardizer\n",
    "\n",
    "standardizer = StandardScaler()"
   ]
  },
  {
   "cell_type": "code",
   "execution_count": 21,
   "id": "5ed5594f",
   "metadata": {},
   "outputs": [],
   "source": [
    "# Standardizing the features\n",
    "\n",
    "X_std = standardizer.fit_transform(X)"
   ]
  },
  {
   "cell_type": "code",
   "execution_count": 22,
   "id": "b1339a98",
   "metadata": {},
   "outputs": [],
   "source": [
    "# training a KNN classifier with 5 neighbors\n",
    "\n",
    "knn = KNeighborsClassifier(n_neighbors = 5, n_jobs = -1).fit(X_std, y)"
   ]
  },
  {
   "cell_type": "code",
   "execution_count": 23,
   "id": "6e15dcde",
   "metadata": {},
   "outputs": [],
   "source": [
    "# creating two observation\n",
    "\n",
    "new_observations = [[0.75, 0.75, 0.75, 0.75],\n",
    "                   [1, 1, 1, 1]]"
   ]
  },
  {
   "cell_type": "code",
   "execution_count": 24,
   "id": "4bf60f72",
   "metadata": {},
   "outputs": [
    {
     "data": {
      "text/plain": [
       "array([1, 2])"
      ]
     },
     "execution_count": 24,
     "metadata": {},
     "output_type": "execute_result"
    }
   ],
   "source": [
    "# predicting the class of two observation\n",
    "\n",
    "knn.predict(new_observations)"
   ]
  },
  {
   "cell_type": "markdown",
   "id": "3111cf01",
   "metadata": {},
   "source": [
    "The algorithm first finds the k closest observations based on some distnace metric(like Euclidean), then these k observations \"vote\" based on their class, and the class that wins the vote is the predicted class"
   ]
  },
  {
   "cell_type": "code",
   "execution_count": 25,
   "id": "30205b81",
   "metadata": {},
   "outputs": [
    {
     "data": {
      "text/plain": [
       "array([[0. , 0.6, 0.4],\n",
       "       [0. , 0. , 1. ]])"
      ]
     },
     "execution_count": 25,
     "metadata": {},
     "output_type": "execute_result"
    }
   ],
   "source": [
    "# view probability of each observation is one of the three classes\n",
    "\n",
    "knn.predict_proba(new_observations)"
   ]
  },
  {
   "cell_type": "markdown",
   "id": "8b6e265b",
   "metadata": {},
   "source": [
    "KNeighborsClassifier has number of important parameters to consider:\n",
    "   - \"metric\" sets the distance metric used.\n",
    "   - \"n_jobs\" determines how many computer cores to use.\n",
    "   - \"algorithm\" sets the method used to calculate the nearest neighbors."
   ]
  },
  {
   "cell_type": "markdown",
   "id": "8e4beed4",
   "metadata": {},
   "source": [
    "## 15.3 Identifying the Best Neighborhood Size\n",
    "\n",
    "selecting the best value for k in a k-nearest neighbors classifier"
   ]
  },
  {
   "cell_type": "code",
   "execution_count": 27,
   "id": "a0c340b5",
   "metadata": {},
   "outputs": [],
   "source": [
    "# loading libraries\n",
    "\n",
    "from sklearn.neighbors import KNeighborsClassifier\n",
    "from sklearn import datasets\n",
    "from sklearn.preprocessing import StandardScaler\n",
    "from sklearn.pipeline import Pipeline, FeatureUnion\n",
    "from sklearn.model_selection import GridSearchCV"
   ]
  },
  {
   "cell_type": "code",
   "execution_count": 29,
   "id": "842c1687",
   "metadata": {},
   "outputs": [],
   "source": [
    "# loading data\n",
    "\n",
    "iris = datasets.load_iris()\n",
    "features = iris.data\n",
    "target = iris.target"
   ]
  },
  {
   "cell_type": "code",
   "execution_count": 30,
   "id": "08e63970",
   "metadata": {},
   "outputs": [],
   "source": [
    "# creating a standardizer\n",
    "\n",
    "standardizer = StandardScaler()"
   ]
  },
  {
   "cell_type": "code",
   "execution_count": 31,
   "id": "97056a00",
   "metadata": {},
   "outputs": [],
   "source": [
    "# standardizinf features\n",
    "\n",
    "features_standardized = standardizer.fit_transform(features)"
   ]
  },
  {
   "cell_type": "code",
   "execution_count": 32,
   "id": "728b6574",
   "metadata": {},
   "outputs": [],
   "source": [
    "# creating a KNN classifier\n",
    "\n",
    "knn = KNeighborsClassifier(n_neighbors = 5, n_jobs = -1)"
   ]
  },
  {
   "cell_type": "code",
   "execution_count": 40,
   "id": "c440848e",
   "metadata": {},
   "outputs": [],
   "source": [
    "# creating a pipeline\n",
    "\n",
    "pipe = Pipeline([(\"standardizer\", standardizer),(\"knn\",knn)])"
   ]
  },
  {
   "cell_type": "code",
   "execution_count": 42,
   "id": "145c7d21",
   "metadata": {},
   "outputs": [],
   "source": [
    "# creating spaace of candidate values\n",
    "\n",
    "search_space = [{\"knn__n_neighbors\": [1, 2, 3, 4, 5, 6, 7, 8, 9, 10]}]"
   ]
  },
  {
   "cell_type": "code",
   "execution_count": 43,
   "id": "461de388",
   "metadata": {},
   "outputs": [],
   "source": [
    "# creating grid search\n",
    "\n",
    "classifier = GridSearchCV(pipe, search_space, cv = 5, verbose = 0).fit(features_standardized, target)"
   ]
  },
  {
   "cell_type": "markdown",
   "id": "acffd782",
   "metadata": {},
   "source": [
    "In machine learning we are trying to find a balance between bias and variance, and in few places is that as explicit as the value of k. If k=1, we will have low bias but high variance.\n",
    "\n",
    "The best model will come from finding the value of k that balances this bias-variance trade-off."
   ]
  },
  {
   "cell_type": "code",
   "execution_count": 44,
   "id": "24d2bb8b",
   "metadata": {},
   "outputs": [
    {
     "data": {
      "text/plain": [
       "6"
      ]
     },
     "execution_count": 44,
     "metadata": {},
     "output_type": "execute_result"
    }
   ],
   "source": [
    "# best neighboorhood size(k)\n",
    "\n",
    "classifier.best_estimator_.get_params()[\"knn__n_neighbors\"]"
   ]
  },
  {
   "cell_type": "markdown",
   "id": "971f58be",
   "metadata": {},
   "source": [
    "## 15.4 Creating a Radius-Based Nearest Neighbor Classifier\n",
    "\n",
    "If an observation is from unknown class, we need to predict its class based on class of all observations within a certain distance"
   ]
  },
  {
   "cell_type": "code",
   "execution_count": 45,
   "id": "2b199e04",
   "metadata": {},
   "outputs": [],
   "source": [
    "# loading the libraries\n",
    "\n",
    "from sklearn.neighbors import RadiusNeighborsClassifier\n",
    "from sklearn.preprocessing import StandardScaler\n",
    "from sklearn import datasets"
   ]
  },
  {
   "cell_type": "code",
   "execution_count": 46,
   "id": "41a4c47d",
   "metadata": {},
   "outputs": [],
   "source": [
    "# loading data\n",
    "\n",
    "iris = datasets.load_iris()\n",
    "features = iris.data\n",
    "target = iris.target"
   ]
  },
  {
   "cell_type": "code",
   "execution_count": 49,
   "id": "b33ca186",
   "metadata": {},
   "outputs": [],
   "source": [
    "# creating standardizer\n",
    "\n",
    "standardizer = StandardScaler()"
   ]
  },
  {
   "cell_type": "code",
   "execution_count": 50,
   "id": "c1da026f",
   "metadata": {},
   "outputs": [],
   "source": [
    "# Standardizing features\n",
    "\n",
    "features_standardized = standardizer.fit_transform(features)"
   ]
  },
  {
   "cell_type": "code",
   "execution_count": 51,
   "id": "32e8b17e",
   "metadata": {},
   "outputs": [],
   "source": [
    "# train a radius neighbors classifier\n",
    "\n",
    "rnn = RadiusNeighborsClassifier(radius = 0.5, n_jobs = -1).fit(features_standardized, target)"
   ]
  },
  {
   "cell_type": "code",
   "execution_count": 52,
   "id": "5cb78c6c",
   "metadata": {},
   "outputs": [],
   "source": [
    "# creating new observations\n",
    "\n",
    "new_observations = [[1, 1, 1, 1]]"
   ]
  },
  {
   "cell_type": "code",
   "execution_count": 53,
   "id": "cf7d04c4",
   "metadata": {},
   "outputs": [
    {
     "data": {
      "text/plain": [
       "array([2])"
      ]
     },
     "execution_count": 53,
     "metadata": {},
     "output_type": "execute_result"
    }
   ],
   "source": [
    "# predicting the class of two observations\n",
    "\n",
    "rnn.predict(new_observations)"
   ]
  },
  {
   "cell_type": "markdown",
   "id": "eb471540",
   "metadata": {},
   "source": [
    "RadiusNeighborsClassifier is very similar to KNeighborsClassifier, with the exception of two parameters."
   ]
  },
  {
   "cell_type": "code",
   "execution_count": null,
   "id": "b89d11c0",
   "metadata": {},
   "outputs": [],
   "source": []
  },
  {
   "cell_type": "code",
   "execution_count": null,
   "id": "f1160a5c",
   "metadata": {},
   "outputs": [],
   "source": []
  }
 ],
 "metadata": {
  "kernelspec": {
   "display_name": "Python 3 (ipykernel)",
   "language": "python",
   "name": "python3"
  },
  "language_info": {
   "codemirror_mode": {
    "name": "ipython",
    "version": 3
   },
   "file_extension": ".py",
   "mimetype": "text/x-python",
   "name": "python",
   "nbconvert_exporter": "python",
   "pygments_lexer": "ipython3",
   "version": "3.10.9"
  }
 },
 "nbformat": 4,
 "nbformat_minor": 5
}
