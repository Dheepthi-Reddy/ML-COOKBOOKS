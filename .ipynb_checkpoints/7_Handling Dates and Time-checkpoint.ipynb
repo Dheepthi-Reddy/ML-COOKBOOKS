{
 "cells": [
  {
   "cell_type": "markdown",
   "id": "af966361",
   "metadata": {},
   "source": [
    "# CHAPTER - 7  Handling Dates and Time"
   ]
  },
  {
   "cell_type": "markdown",
   "id": "d017be17",
   "metadata": {},
   "source": [
    "## 7.1 Converting Strings to Dates"
   ]
  },
  {
   "cell_type": "markdown",
   "id": "cbab642d",
   "metadata": {},
   "source": [
    "Converting vector of strings representing Dates and times into time series data.\n",
    "\n",
    "the format of the dates might vary significantly depending on data sources, like 24-11-2023 or Nov, 24, 2023 or 24/11/2023"
   ]
  },
  {
   "cell_type": "code",
   "execution_count": 1,
   "id": "c092aaec",
   "metadata": {},
   "outputs": [],
   "source": [
    "import numpy as np\n",
    "import pandas as pd"
   ]
  },
  {
   "cell_type": "code",
   "execution_count": 2,
   "id": "d05f874c",
   "metadata": {},
   "outputs": [],
   "source": [
    "# creating strings\n",
    "\n",
    "date_strings = np.array(['24-11-2023 05:33 AM',\n",
    "                        '18-11-2023 11:54 PM',\n",
    "                        '18-05-2023 09:09 AM'])"
   ]
  },
  {
   "cell_type": "code",
   "execution_count": 3,
   "id": "b69febff",
   "metadata": {},
   "outputs": [
    {
     "data": {
      "text/plain": [
       "[Timestamp('2023-11-24 05:33:00'),\n",
       " Timestamp('2023-11-18 23:54:00'),\n",
       " Timestamp('2023-05-18 09:09:00')]"
      ]
     },
     "execution_count": 3,
     "metadata": {},
     "output_type": "execute_result"
    }
   ],
   "source": [
    "# converting to datetimes using pandas to_datetime\n",
    "\n",
    "[pd.to_datetime(date, format='%d-%m-%Y %I:%M %p') for date in date_strings]"
   ]
  },
  {
   "cell_type": "code",
   "execution_count": 4,
   "id": "96c7a1a7",
   "metadata": {},
   "outputs": [
    {
     "data": {
      "text/plain": [
       "[Timestamp('2023-11-24 05:33:00'),\n",
       " Timestamp('2023-11-18 23:54:00'),\n",
       " Timestamp('2023-05-18 09:09:00')]"
      ]
     },
     "execution_count": 4,
     "metadata": {},
     "output_type": "execute_result"
    }
   ],
   "source": [
    "# we can add errors parameter so that any problem will not raise an error,\n",
    "# instead it will set the value causing the error to missing value NaT\n",
    "\n",
    "[pd.to_datetime(date, format = '%d-%m-%Y %I:%M %p') for date in date_strings]"
   ]
  },
  {
   "cell_type": "markdown",
   "id": "2daec827",
   "metadata": {},
   "source": [
    "## 7.2 Handling Time zones"
   ]
  },
  {
   "cell_type": "markdown",
   "id": "d44b8eb0",
   "metadata": {},
   "source": [
    "Adding or changing time zone information to time series data."
   ]
  },
  {
   "cell_type": "code",
   "execution_count": 5,
   "id": "a5e996e6",
   "metadata": {},
   "outputs": [
    {
     "data": {
      "text/plain": [
       "Timestamp('2023-11-24 05:48:50-0800', tz='US/Pacific')"
      ]
     },
     "execution_count": 5,
     "metadata": {},
     "output_type": "execute_result"
    }
   ],
   "source": [
    "# creating timestamp with timezone\n",
    "\n",
    "pd.Timestamp('2023-11-24 05:48:50', tz='US/Pacific')"
   ]
  },
  {
   "cell_type": "code",
   "execution_count": 8,
   "id": "20d754e4",
   "metadata": {},
   "outputs": [],
   "source": [
    "# adding timezone to previously created datetime using tz_localize\n",
    "\n",
    "date = pd.Timestamp('2023-11-24 05:48:50')"
   ]
  },
  {
   "cell_type": "code",
   "execution_count": 10,
   "id": "6b294fde",
   "metadata": {},
   "outputs": [
    {
     "data": {
      "text/plain": [
       "Timestamp('2023-11-24 05:48:50+0000', tz='Europe/London')"
      ]
     },
     "execution_count": 10,
     "metadata": {},
     "output_type": "execute_result"
    }
   ],
   "source": [
    "londonTime = date.tz_localize('Europe/London')\n",
    "\n",
    "londonTime"
   ]
  },
  {
   "cell_type": "code",
   "execution_count": 12,
   "id": "2a2ecf02",
   "metadata": {},
   "outputs": [
    {
     "data": {
      "text/plain": [
       "Timestamp('2023-11-24 05:48:50+0000', tz='Africa/Abidjan')"
      ]
     },
     "execution_count": 12,
     "metadata": {},
     "output_type": "execute_result"
    }
   ],
   "source": [
    "# we can convert this to other time zone\n",
    "\n",
    "londonTime.tz_convert('Africa/Abidjan')"
   ]
  },
  {
   "cell_type": "code",
   "execution_count": 20,
   "id": "08291a20",
   "metadata": {},
   "outputs": [],
   "source": [
    "# we can apply tz_localize and tz_convert to each element in pandas series\n",
    "\n",
    "# creating 3 dates\n",
    "\n",
    "dates = pd.Series(pd.date_range('11/24/2023', periods = 3, freq = 'M'))\n",
    "\n",
    "# periods - no of periods to generate"
   ]
  },
  {
   "cell_type": "code",
   "execution_count": 15,
   "id": "2dea76c1",
   "metadata": {},
   "outputs": [
    {
     "data": {
      "text/plain": [
       "0   2023-11-30 00:00:00-08:00\n",
       "1   2023-12-31 00:00:00-08:00\n",
       "2   2024-01-31 00:00:00-08:00\n",
       "dtype: datetime64[ns, US/Pacific]"
      ]
     },
     "execution_count": 15,
     "metadata": {},
     "output_type": "execute_result"
    }
   ],
   "source": [
    "# seetting time zone\n",
    "dates.dt.tz_localize('US/Pacific')"
   ]
  },
  {
   "cell_type": "markdown",
   "id": "31d4071b",
   "metadata": {},
   "source": [
    "Pandas supports 2 sets of strings in representing time zones; by using 'pytz' library we can see all the timezones"
   ]
  },
  {
   "cell_type": "code",
   "execution_count": 18,
   "id": "619c88dd",
   "metadata": {},
   "outputs": [],
   "source": [
    "# importing library\n",
    "\n",
    "from pytz import all_timezones"
   ]
  },
  {
   "cell_type": "code",
   "execution_count": 19,
   "id": "8fca87a8",
   "metadata": {},
   "outputs": [
    {
     "data": {
      "text/plain": [
       "['Africa/Abidjan',\n",
       " 'Africa/Accra',\n",
       " 'Africa/Addis_Ababa',\n",
       " 'Africa/Algiers',\n",
       " 'Africa/Asmara']"
      ]
     },
     "execution_count": 19,
     "metadata": {},
     "output_type": "execute_result"
    }
   ],
   "source": [
    "# show 5 time zones\n",
    "\n",
    "all_timezones[:5]"
   ]
  },
  {
   "cell_type": "markdown",
   "id": "1802e1bd",
   "metadata": {},
   "source": [
    "## 7.3 Selecting Dates and Times"
   ]
  },
  {
   "cell_type": "markdown",
   "id": "4968e436",
   "metadata": {},
   "source": [
    "Selecting one or more dates from vector of dates"
   ]
  },
  {
   "cell_type": "code",
   "execution_count": 21,
   "id": "df12a780",
   "metadata": {},
   "outputs": [],
   "source": [
    "# creating a dataframe\n",
    "\n",
    "dataframe = pd.DataFrame()\n",
    "\n",
    "# creating datetimes\n",
    "\n",
    "dataframe['date'] = pd.date_range('1/1/2023', periods = 100000, freq = 'H')"
   ]
  },
  {
   "cell_type": "code",
   "execution_count": 24,
   "id": "3167bfd7",
   "metadata": {},
   "outputs": [
    {
     "data": {
      "text/html": [
       "<div>\n",
       "<style scoped>\n",
       "    .dataframe tbody tr th:only-of-type {\n",
       "        vertical-align: middle;\n",
       "    }\n",
       "\n",
       "    .dataframe tbody tr th {\n",
       "        vertical-align: top;\n",
       "    }\n",
       "\n",
       "    .dataframe thead th {\n",
       "        text-align: right;\n",
       "    }\n",
       "</style>\n",
       "<table border=\"1\" class=\"dataframe\">\n",
       "  <thead>\n",
       "    <tr style=\"text-align: right;\">\n",
       "      <th></th>\n",
       "      <th>date</th>\n",
       "    </tr>\n",
       "  </thead>\n",
       "  <tbody>\n",
       "    <tr>\n",
       "      <th>1</th>\n",
       "      <td>2023-01-01 01:00:00</td>\n",
       "    </tr>\n",
       "    <tr>\n",
       "      <th>2</th>\n",
       "      <td>2023-01-01 02:00:00</td>\n",
       "    </tr>\n",
       "    <tr>\n",
       "      <th>3</th>\n",
       "      <td>2023-01-01 03:00:00</td>\n",
       "    </tr>\n",
       "    <tr>\n",
       "      <th>4</th>\n",
       "      <td>2023-01-01 04:00:00</td>\n",
       "    </tr>\n",
       "  </tbody>\n",
       "</table>\n",
       "</div>"
      ],
      "text/plain": [
       "                 date\n",
       "1 2023-01-01 01:00:00\n",
       "2 2023-01-01 02:00:00\n",
       "3 2023-01-01 03:00:00\n",
       "4 2023-01-01 04:00:00"
      ]
     },
     "execution_count": 24,
     "metadata": {},
     "output_type": "execute_result"
    }
   ],
   "source": [
    "# selecting observations between 2 dates\n",
    "\n",
    "dataframe[(dataframe['date'] > '2023-1-1 00:00:00') &\n",
    "         (dataframe['date'] <= '2023-1-1 04:00:00')]"
   ]
  },
  {
   "cell_type": "code",
   "execution_count": 25,
   "id": "79f354ed",
   "metadata": {},
   "outputs": [],
   "source": [
    "# we can also use loc using date column as index\n",
    "\n",
    "# setting the index\n",
    "\n",
    "dataframe = dataframe.set_index(dataframe['date'])"
   ]
  },
  {
   "cell_type": "code",
   "execution_count": 29,
   "id": "bad6ffc6",
   "metadata": {},
   "outputs": [
    {
     "data": {
      "text/html": [
       "<div>\n",
       "<style scoped>\n",
       "    .dataframe tbody tr th:only-of-type {\n",
       "        vertical-align: middle;\n",
       "    }\n",
       "\n",
       "    .dataframe tbody tr th {\n",
       "        vertical-align: top;\n",
       "    }\n",
       "\n",
       "    .dataframe thead th {\n",
       "        text-align: right;\n",
       "    }\n",
       "</style>\n",
       "<table border=\"1\" class=\"dataframe\">\n",
       "  <thead>\n",
       "    <tr style=\"text-align: right;\">\n",
       "      <th></th>\n",
       "      <th>date</th>\n",
       "    </tr>\n",
       "    <tr>\n",
       "      <th>date</th>\n",
       "      <th></th>\n",
       "    </tr>\n",
       "  </thead>\n",
       "  <tbody>\n",
       "    <tr>\n",
       "      <th>2023-01-01 00:00:00</th>\n",
       "      <td>2023-01-01 00:00:00</td>\n",
       "    </tr>\n",
       "    <tr>\n",
       "      <th>2023-01-01 01:00:00</th>\n",
       "      <td>2023-01-01 01:00:00</td>\n",
       "    </tr>\n",
       "    <tr>\n",
       "      <th>2023-01-01 02:00:00</th>\n",
       "      <td>2023-01-01 02:00:00</td>\n",
       "    </tr>\n",
       "    <tr>\n",
       "      <th>2023-01-01 03:00:00</th>\n",
       "      <td>2023-01-01 03:00:00</td>\n",
       "    </tr>\n",
       "    <tr>\n",
       "      <th>2023-01-01 04:00:00</th>\n",
       "      <td>2023-01-01 04:00:00</td>\n",
       "    </tr>\n",
       "  </tbody>\n",
       "</table>\n",
       "</div>"
      ],
      "text/plain": [
       "                                   date\n",
       "date                                   \n",
       "2023-01-01 00:00:00 2023-01-01 00:00:00\n",
       "2023-01-01 01:00:00 2023-01-01 01:00:00\n",
       "2023-01-01 02:00:00 2023-01-01 02:00:00\n",
       "2023-01-01 03:00:00 2023-01-01 03:00:00\n",
       "2023-01-01 04:00:00 2023-01-01 04:00:00"
      ]
     },
     "execution_count": 29,
     "metadata": {},
     "output_type": "execute_result"
    }
   ],
   "source": [
    "# selecting observations between 2 dates\n",
    "\n",
    "dataframe.loc['2023-1-1 00:00:00' : '2023-1-1 04:00:00']"
   ]
  },
  {
   "cell_type": "markdown",
   "id": "dc6b3afd",
   "metadata": {},
   "source": [
    "## 7.4 Breaking up date data into multiple features"
   ]
  },
  {
   "cell_type": "markdown",
   "id": "a08301f1",
   "metadata": {},
   "source": [
    "Using a column of date and times, creating features for year, month, day, hour, minute "
   ]
  },
  {
   "cell_type": "code",
   "execution_count": 55,
   "id": "66e739c1",
   "metadata": {},
   "outputs": [],
   "source": [
    "# create a dataframe\n",
    "\n",
    "dataframe = pd.DataFrame()"
   ]
  },
  {
   "cell_type": "code",
   "execution_count": 56,
   "id": "966d25d8",
   "metadata": {},
   "outputs": [],
   "source": [
    "# creating five dates\n",
    "\n",
    "dataframe['date'] = pd.date_range('1/1/2023', periods = 150, freq = 'W')"
   ]
  },
  {
   "cell_type": "code",
   "execution_count": 57,
   "id": "12e50cd7",
   "metadata": {},
   "outputs": [],
   "source": [
    "# creating features for year, month, day, hour and minute\n",
    "\n",
    "dataframe['year'] = dataframe['date'].dt.year\n",
    "dataframe['month'] = dataframe['date'].dt.month\n",
    "dataframe['day'] = dataframe['date'].dt.day\n",
    "dataframe['hour'] = dataframe['date'].dt.hour\n",
    "dataframe['minute'] = dataframe['date'].dt.minute"
   ]
  },
  {
   "cell_type": "code",
   "execution_count": 59,
   "id": "9c3293ff",
   "metadata": {},
   "outputs": [
    {
     "data": {
      "text/html": [
       "<div>\n",
       "<style scoped>\n",
       "    .dataframe tbody tr th:only-of-type {\n",
       "        vertical-align: middle;\n",
       "    }\n",
       "\n",
       "    .dataframe tbody tr th {\n",
       "        vertical-align: top;\n",
       "    }\n",
       "\n",
       "    .dataframe thead th {\n",
       "        text-align: right;\n",
       "    }\n",
       "</style>\n",
       "<table border=\"1\" class=\"dataframe\">\n",
       "  <thead>\n",
       "    <tr style=\"text-align: right;\">\n",
       "      <th></th>\n",
       "      <th>date</th>\n",
       "      <th>year</th>\n",
       "      <th>month</th>\n",
       "      <th>day</th>\n",
       "      <th>hour</th>\n",
       "      <th>minute</th>\n",
       "    </tr>\n",
       "  </thead>\n",
       "  <tbody>\n",
       "    <tr>\n",
       "      <th>0</th>\n",
       "      <td>2023-01-01</td>\n",
       "      <td>2023</td>\n",
       "      <td>1</td>\n",
       "      <td>1</td>\n",
       "      <td>0</td>\n",
       "      <td>0</td>\n",
       "    </tr>\n",
       "    <tr>\n",
       "      <th>1</th>\n",
       "      <td>2023-01-08</td>\n",
       "      <td>2023</td>\n",
       "      <td>1</td>\n",
       "      <td>8</td>\n",
       "      <td>0</td>\n",
       "      <td>0</td>\n",
       "    </tr>\n",
       "    <tr>\n",
       "      <th>2</th>\n",
       "      <td>2023-01-15</td>\n",
       "      <td>2023</td>\n",
       "      <td>1</td>\n",
       "      <td>15</td>\n",
       "      <td>0</td>\n",
       "      <td>0</td>\n",
       "    </tr>\n",
       "    <tr>\n",
       "      <th>3</th>\n",
       "      <td>2023-01-22</td>\n",
       "      <td>2023</td>\n",
       "      <td>1</td>\n",
       "      <td>22</td>\n",
       "      <td>0</td>\n",
       "      <td>0</td>\n",
       "    </tr>\n",
       "    <tr>\n",
       "      <th>4</th>\n",
       "      <td>2023-01-29</td>\n",
       "      <td>2023</td>\n",
       "      <td>1</td>\n",
       "      <td>29</td>\n",
       "      <td>0</td>\n",
       "      <td>0</td>\n",
       "    </tr>\n",
       "  </tbody>\n",
       "</table>\n",
       "</div>"
      ],
      "text/plain": [
       "        date  year  month  day  hour  minute\n",
       "0 2023-01-01  2023      1    1     0       0\n",
       "1 2023-01-08  2023      1    8     0       0\n",
       "2 2023-01-15  2023      1   15     0       0\n",
       "3 2023-01-22  2023      1   22     0       0\n",
       "4 2023-01-29  2023      1   29     0       0"
      ]
     },
     "execution_count": 59,
     "metadata": {},
     "output_type": "execute_result"
    }
   ],
   "source": [
    "# Show head \n",
    "\n",
    "dataframe.head()"
   ]
  },
  {
   "cell_type": "markdown",
   "id": "b6a3ae6d",
   "metadata": {},
   "source": [
    "## 7.5 Caluclating the difference between the dates"
   ]
  },
  {
   "cell_type": "markdown",
   "id": "d68466ee",
   "metadata": {},
   "source": [
    "caluclating the time between datetime feature"
   ]
  },
  {
   "cell_type": "code",
   "execution_count": 60,
   "id": "582101d1",
   "metadata": {},
   "outputs": [],
   "source": [
    "dataframe = pd.DataFrame()"
   ]
  },
  {
   "cell_type": "code",
   "execution_count": 65,
   "id": "da600b45",
   "metadata": {},
   "outputs": [],
   "source": [
    "# Creating 2 datetime features\n",
    "\n",
    "dataframe['Arrived'] = [pd.Timestamp('01-01-2023'), pd.Timestamp('01-04-2023')]\n",
    "dataframe['Left'] = [pd.Timestamp('01-01-2023'), pd.Timestamp('01-10-2023')]"
   ]
  },
  {
   "cell_type": "code",
   "execution_count": 66,
   "id": "98ef380e",
   "metadata": {},
   "outputs": [
    {
     "data": {
      "text/plain": [
       "0   0 days\n",
       "1   6 days\n",
       "dtype: timedelta64[ns]"
      ]
     },
     "execution_count": 66,
     "metadata": {},
     "output_type": "execute_result"
    }
   ],
   "source": [
    "# duration between the features\n",
    "\n",
    "\n",
    "dataframe['Left'] - dataframe['Arrived']"
   ]
  },
  {
   "cell_type": "code",
   "execution_count": 68,
   "id": "879aff4e",
   "metadata": {},
   "outputs": [
    {
     "data": {
      "text/plain": [
       "0    0\n",
       "1    6\n",
       "dtype: int64"
      ]
     },
     "execution_count": 68,
     "metadata": {},
     "output_type": "execute_result"
    }
   ],
   "source": [
    "# caluclating duration between features(removing days in output)\n",
    "\n",
    "pd.Series(delta.days for delta in (dataframe['Left'] - dataframe['Arrived']))"
   ]
  },
  {
   "cell_type": "code",
   "execution_count": 69,
   "id": "9280b790",
   "metadata": {},
   "outputs": [],
   "source": [
    "# Time Deltas"
   ]
  },
  {
   "cell_type": "markdown",
   "id": "08f8777a",
   "metadata": {},
   "source": [
    "## 7.6 Encoing Days of the week"
   ]
  },
  {
   "cell_type": "markdown",
   "id": "fcd8fd42",
   "metadata": {},
   "source": [
    "Finding the day of the week in a vector of dates"
   ]
  },
  {
   "cell_type": "code",
   "execution_count": 70,
   "id": "544ec54c",
   "metadata": {},
   "outputs": [],
   "source": [
    "# Creating dates\n",
    "\n",
    "dates = pd.Series(pd.date_range('2/2/2023', periods = 3, freq = 'M'))"
   ]
  },
  {
   "cell_type": "code",
   "execution_count": 80,
   "id": "b852f4e8",
   "metadata": {},
   "outputs": [
    {
     "data": {
      "text/plain": [
       "0    Tuesday\n",
       "1     Friday\n",
       "2     Sunday\n",
       "dtype: object"
      ]
     },
     "execution_count": 80,
     "metadata": {},
     "output_type": "execute_result"
    }
   ],
   "source": [
    "# showing days of the week\n",
    "\n",
    "dates.dt.day_name()"
   ]
  },
  {
   "cell_type": "code",
   "execution_count": 82,
   "id": "f8adb426",
   "metadata": {},
   "outputs": [
    {
     "data": {
      "text/plain": [
       "0    1\n",
       "1    4\n",
       "2    6\n",
       "dtype: int64"
      ]
     },
     "execution_count": 82,
     "metadata": {},
     "output_type": "execute_result"
    }
   ],
   "source": [
    "# if we want the output to be a numeric value\n",
    "\n",
    "dates.dt.weekday"
   ]
  },
  {
   "cell_type": "markdown",
   "id": "f8e72b49",
   "metadata": {},
   "source": [
    "## 7.7 Creating a Lagged Feature"
   ]
  },
  {
   "cell_type": "markdown",
   "id": "99a4a190",
   "metadata": {},
   "source": [
    "Creating a feature that is lagged n time periods"
   ]
  },
  {
   "cell_type": "code",
   "execution_count": 84,
   "id": "7f1fb1b0",
   "metadata": {},
   "outputs": [],
   "source": [
    "dataframe = pd.DataFrame()"
   ]
  },
  {
   "cell_type": "code",
   "execution_count": 86,
   "id": "9ff0d809",
   "metadata": {},
   "outputs": [],
   "source": [
    "# creating data\n",
    "\n",
    "dataframe['date'] = pd.date_range('1/1/2023', periods = 5, freq = 'D')\n",
    "dataframe['stock_price'] = [1.1,2.2,3.3,4.4,5.5]"
   ]
  },
  {
   "cell_type": "code",
   "execution_count": 91,
   "id": "5673990f",
   "metadata": {},
   "outputs": [
    {
     "data": {
      "text/html": [
       "<div>\n",
       "<style scoped>\n",
       "    .dataframe tbody tr th:only-of-type {\n",
       "        vertical-align: middle;\n",
       "    }\n",
       "\n",
       "    .dataframe tbody tr th {\n",
       "        vertical-align: top;\n",
       "    }\n",
       "\n",
       "    .dataframe thead th {\n",
       "        text-align: right;\n",
       "    }\n",
       "</style>\n",
       "<table border=\"1\" class=\"dataframe\">\n",
       "  <thead>\n",
       "    <tr style=\"text-align: right;\">\n",
       "      <th></th>\n",
       "      <th>date</th>\n",
       "      <th>stock_price</th>\n",
       "      <th>previous_days_stock_price</th>\n",
       "    </tr>\n",
       "  </thead>\n",
       "  <tbody>\n",
       "    <tr>\n",
       "      <th>0</th>\n",
       "      <td>2023-01-01</td>\n",
       "      <td>1.1</td>\n",
       "      <td>NaN</td>\n",
       "    </tr>\n",
       "    <tr>\n",
       "      <th>1</th>\n",
       "      <td>2023-01-02</td>\n",
       "      <td>2.2</td>\n",
       "      <td>1.1</td>\n",
       "    </tr>\n",
       "    <tr>\n",
       "      <th>2</th>\n",
       "      <td>2023-01-03</td>\n",
       "      <td>3.3</td>\n",
       "      <td>2.2</td>\n",
       "    </tr>\n",
       "    <tr>\n",
       "      <th>3</th>\n",
       "      <td>2023-01-04</td>\n",
       "      <td>4.4</td>\n",
       "      <td>3.3</td>\n",
       "    </tr>\n",
       "    <tr>\n",
       "      <th>4</th>\n",
       "      <td>2023-01-05</td>\n",
       "      <td>5.5</td>\n",
       "      <td>4.4</td>\n",
       "    </tr>\n",
       "  </tbody>\n",
       "</table>\n",
       "</div>"
      ],
      "text/plain": [
       "        date  stock_price  previous_days_stock_price\n",
       "0 2023-01-01          1.1                        NaN\n",
       "1 2023-01-02          2.2                        1.1\n",
       "2 2023-01-03          3.3                        2.2\n",
       "3 2023-01-04          4.4                        3.3\n",
       "4 2023-01-05          5.5                        4.4"
      ]
     },
     "execution_count": 91,
     "metadata": {},
     "output_type": "execute_result"
    }
   ],
   "source": [
    "# dataframe of perivous days sock price\n",
    "\n",
    "dataframe['previous_days_stock_price'] = dataframe['stock_price'].shift(1)\n",
    "\n",
    "dataframe"
   ]
  },
  {
   "cell_type": "markdown",
   "id": "32a54075",
   "metadata": {},
   "source": [
    "We can use shift in predicting next days stock price by looking at yesterdays result, in the above result first value is null because there is no previous value to that"
   ]
  },
  {
   "cell_type": "markdown",
   "id": "20028b42",
   "metadata": {},
   "source": [
    "## 7.8 Using Rolling Time Windows"
   ]
  },
  {
   "cell_type": "markdown",
   "id": "a713158c",
   "metadata": {},
   "source": [
    "Caluclating statistic for a rolling time"
   ]
  },
  {
   "cell_type": "code",
   "execution_count": 92,
   "id": "88711bae",
   "metadata": {},
   "outputs": [],
   "source": [
    "# creating datetimes\n",
    "\n",
    "time_index = pd.date_range('01/01/2023', periods = 5, freq = 'M')"
   ]
  },
  {
   "cell_type": "code",
   "execution_count": 94,
   "id": "6e67cdf1",
   "metadata": {},
   "outputs": [],
   "source": [
    "# creating a dataframe and setting index\n",
    "\n",
    "dataframe = pd.DataFrame(index = time_index)\n",
    "\n",
    "# creating the feature\n",
    "\n",
    "dataframe['stock_price'] = [1,2,3,4,5]"
   ]
  },
  {
   "cell_type": "code",
   "execution_count": 95,
   "id": "52942bea",
   "metadata": {},
   "outputs": [
    {
     "data": {
      "text/html": [
       "<div>\n",
       "<style scoped>\n",
       "    .dataframe tbody tr th:only-of-type {\n",
       "        vertical-align: middle;\n",
       "    }\n",
       "\n",
       "    .dataframe tbody tr th {\n",
       "        vertical-align: top;\n",
       "    }\n",
       "\n",
       "    .dataframe thead th {\n",
       "        text-align: right;\n",
       "    }\n",
       "</style>\n",
       "<table border=\"1\" class=\"dataframe\">\n",
       "  <thead>\n",
       "    <tr style=\"text-align: right;\">\n",
       "      <th></th>\n",
       "      <th>stock_price</th>\n",
       "    </tr>\n",
       "  </thead>\n",
       "  <tbody>\n",
       "    <tr>\n",
       "      <th>2023-01-31</th>\n",
       "      <td>NaN</td>\n",
       "    </tr>\n",
       "    <tr>\n",
       "      <th>2023-02-28</th>\n",
       "      <td>1.5</td>\n",
       "    </tr>\n",
       "    <tr>\n",
       "      <th>2023-03-31</th>\n",
       "      <td>2.5</td>\n",
       "    </tr>\n",
       "    <tr>\n",
       "      <th>2023-04-30</th>\n",
       "      <td>3.5</td>\n",
       "    </tr>\n",
       "    <tr>\n",
       "      <th>2023-05-31</th>\n",
       "      <td>4.5</td>\n",
       "    </tr>\n",
       "  </tbody>\n",
       "</table>\n",
       "</div>"
      ],
      "text/plain": [
       "            stock_price\n",
       "2023-01-31          NaN\n",
       "2023-02-28          1.5\n",
       "2023-03-31          2.5\n",
       "2023-04-30          3.5\n",
       "2023-05-31          4.5"
      ]
     },
     "execution_count": 95,
     "metadata": {},
     "output_type": "execute_result"
    }
   ],
   "source": [
    "# calculating  rolling mean\n",
    "\n",
    "dataframe.rolling(window = 2).mean()"
   ]
  },
  {
   "cell_type": "code",
   "execution_count": null,
   "id": "183b39e5",
   "metadata": {},
   "outputs": [],
   "source": []
  },
  {
   "cell_type": "markdown",
   "id": "f081f43d",
   "metadata": {},
   "source": [
    "## 7.9 Handling Missing Data in Time Series"
   ]
  },
  {
   "cell_type": "markdown",
   "id": "53e7df97",
   "metadata": {},
   "source": [
    "Handling missing values in a time series date"
   ]
  },
  {
   "cell_type": "code",
   "execution_count": 96,
   "id": "d30fc94f",
   "metadata": {},
   "outputs": [],
   "source": [
    "# creating dates\n",
    "\n",
    "time_index = pd.date_range('01/01/2023', periods = 5, freq ='M')"
   ]
  },
  {
   "cell_type": "code",
   "execution_count": 97,
   "id": "a9af5be0",
   "metadata": {},
   "outputs": [],
   "source": [
    "# creating dataframe and setting index\n",
    "\n",
    "dataframe = pd.DataFrame(index = time_index)"
   ]
  },
  {
   "cell_type": "code",
   "execution_count": 98,
   "id": "e896dc80",
   "metadata": {},
   "outputs": [],
   "source": [
    "# feature with gap of missing values\n",
    "\n",
    "dataframe['sales'] = [1.0, 2.0, np.nan, np.nan, 5.0]"
   ]
  },
  {
   "cell_type": "code",
   "execution_count": 99,
   "id": "f1dd3a8f",
   "metadata": {},
   "outputs": [
    {
     "data": {
      "text/html": [
       "<div>\n",
       "<style scoped>\n",
       "    .dataframe tbody tr th:only-of-type {\n",
       "        vertical-align: middle;\n",
       "    }\n",
       "\n",
       "    .dataframe tbody tr th {\n",
       "        vertical-align: top;\n",
       "    }\n",
       "\n",
       "    .dataframe thead th {\n",
       "        text-align: right;\n",
       "    }\n",
       "</style>\n",
       "<table border=\"1\" class=\"dataframe\">\n",
       "  <thead>\n",
       "    <tr style=\"text-align: right;\">\n",
       "      <th></th>\n",
       "      <th>sales</th>\n",
       "    </tr>\n",
       "  </thead>\n",
       "  <tbody>\n",
       "    <tr>\n",
       "      <th>2023-01-31</th>\n",
       "      <td>1.0</td>\n",
       "    </tr>\n",
       "    <tr>\n",
       "      <th>2023-02-28</th>\n",
       "      <td>2.0</td>\n",
       "    </tr>\n",
       "    <tr>\n",
       "      <th>2023-03-31</th>\n",
       "      <td>3.0</td>\n",
       "    </tr>\n",
       "    <tr>\n",
       "      <th>2023-04-30</th>\n",
       "      <td>4.0</td>\n",
       "    </tr>\n",
       "    <tr>\n",
       "      <th>2023-05-31</th>\n",
       "      <td>5.0</td>\n",
       "    </tr>\n",
       "  </tbody>\n",
       "</table>\n",
       "</div>"
      ],
      "text/plain": [
       "            sales\n",
       "2023-01-31    1.0\n",
       "2023-02-28    2.0\n",
       "2023-03-31    3.0\n",
       "2023-04-30    4.0\n",
       "2023-05-31    5.0"
      ]
     },
     "execution_count": 99,
     "metadata": {},
     "output_type": "execute_result"
    }
   ],
   "source": [
    "# Interpolating missing values\n",
    "# drawing a curve or line between known values to find missing values\n",
    "\n",
    "dataframe.interpolate()"
   ]
  },
  {
   "cell_type": "code",
   "execution_count": 100,
   "id": "8e2655a1",
   "metadata": {},
   "outputs": [
    {
     "data": {
      "text/html": [
       "<div>\n",
       "<style scoped>\n",
       "    .dataframe tbody tr th:only-of-type {\n",
       "        vertical-align: middle;\n",
       "    }\n",
       "\n",
       "    .dataframe tbody tr th {\n",
       "        vertical-align: top;\n",
       "    }\n",
       "\n",
       "    .dataframe thead th {\n",
       "        text-align: right;\n",
       "    }\n",
       "</style>\n",
       "<table border=\"1\" class=\"dataframe\">\n",
       "  <thead>\n",
       "    <tr style=\"text-align: right;\">\n",
       "      <th></th>\n",
       "      <th>sales</th>\n",
       "    </tr>\n",
       "  </thead>\n",
       "  <tbody>\n",
       "    <tr>\n",
       "      <th>2023-01-31</th>\n",
       "      <td>1.0</td>\n",
       "    </tr>\n",
       "    <tr>\n",
       "      <th>2023-02-28</th>\n",
       "      <td>2.0</td>\n",
       "    </tr>\n",
       "    <tr>\n",
       "      <th>2023-03-31</th>\n",
       "      <td>2.0</td>\n",
       "    </tr>\n",
       "    <tr>\n",
       "      <th>2023-04-30</th>\n",
       "      <td>2.0</td>\n",
       "    </tr>\n",
       "    <tr>\n",
       "      <th>2023-05-31</th>\n",
       "      <td>5.0</td>\n",
       "    </tr>\n",
       "  </tbody>\n",
       "</table>\n",
       "</div>"
      ],
      "text/plain": [
       "            sales\n",
       "2023-01-31    1.0\n",
       "2023-02-28    2.0\n",
       "2023-03-31    2.0\n",
       "2023-04-30    2.0\n",
       "2023-05-31    5.0"
      ]
     },
     "execution_count": 100,
     "metadata": {},
     "output_type": "execute_result"
    }
   ],
   "source": [
    "# replacing missing values with last known value\n",
    "# Forward-fill\n",
    "\n",
    "dataframe.ffill()"
   ]
  },
  {
   "cell_type": "code",
   "execution_count": 101,
   "id": "c514d72e",
   "metadata": {},
   "outputs": [
    {
     "data": {
      "text/html": [
       "<div>\n",
       "<style scoped>\n",
       "    .dataframe tbody tr th:only-of-type {\n",
       "        vertical-align: middle;\n",
       "    }\n",
       "\n",
       "    .dataframe tbody tr th {\n",
       "        vertical-align: top;\n",
       "    }\n",
       "\n",
       "    .dataframe thead th {\n",
       "        text-align: right;\n",
       "    }\n",
       "</style>\n",
       "<table border=\"1\" class=\"dataframe\">\n",
       "  <thead>\n",
       "    <tr style=\"text-align: right;\">\n",
       "      <th></th>\n",
       "      <th>sales</th>\n",
       "    </tr>\n",
       "  </thead>\n",
       "  <tbody>\n",
       "    <tr>\n",
       "      <th>2023-01-31</th>\n",
       "      <td>1.0</td>\n",
       "    </tr>\n",
       "    <tr>\n",
       "      <th>2023-02-28</th>\n",
       "      <td>2.0</td>\n",
       "    </tr>\n",
       "    <tr>\n",
       "      <th>2023-03-31</th>\n",
       "      <td>5.0</td>\n",
       "    </tr>\n",
       "    <tr>\n",
       "      <th>2023-04-30</th>\n",
       "      <td>5.0</td>\n",
       "    </tr>\n",
       "    <tr>\n",
       "      <th>2023-05-31</th>\n",
       "      <td>5.0</td>\n",
       "    </tr>\n",
       "  </tbody>\n",
       "</table>\n",
       "</div>"
      ],
      "text/plain": [
       "            sales\n",
       "2023-01-31    1.0\n",
       "2023-02-28    2.0\n",
       "2023-03-31    5.0\n",
       "2023-04-30    5.0\n",
       "2023-05-31    5.0"
      ]
     },
     "execution_count": 101,
     "metadata": {},
     "output_type": "execute_result"
    }
   ],
   "source": [
    "# we can also fill with latest known value\n",
    "# Back-fill\n",
    "\n",
    "dataframe.bfill()"
   ]
  },
  {
   "cell_type": "code",
   "execution_count": 102,
   "id": "fd5414ed",
   "metadata": {},
   "outputs": [
    {
     "data": {
      "text/html": [
       "<div>\n",
       "<style scoped>\n",
       "    .dataframe tbody tr th:only-of-type {\n",
       "        vertical-align: middle;\n",
       "    }\n",
       "\n",
       "    .dataframe tbody tr th {\n",
       "        vertical-align: top;\n",
       "    }\n",
       "\n",
       "    .dataframe thead th {\n",
       "        text-align: right;\n",
       "    }\n",
       "</style>\n",
       "<table border=\"1\" class=\"dataframe\">\n",
       "  <thead>\n",
       "    <tr style=\"text-align: right;\">\n",
       "      <th></th>\n",
       "      <th>sales</th>\n",
       "    </tr>\n",
       "  </thead>\n",
       "  <tbody>\n",
       "    <tr>\n",
       "      <th>2023-01-31</th>\n",
       "      <td>1.000000</td>\n",
       "    </tr>\n",
       "    <tr>\n",
       "      <th>2023-02-28</th>\n",
       "      <td>2.000000</td>\n",
       "    </tr>\n",
       "    <tr>\n",
       "      <th>2023-03-31</th>\n",
       "      <td>3.059808</td>\n",
       "    </tr>\n",
       "    <tr>\n",
       "      <th>2023-04-30</th>\n",
       "      <td>4.038069</td>\n",
       "    </tr>\n",
       "    <tr>\n",
       "      <th>2023-05-31</th>\n",
       "      <td>5.000000</td>\n",
       "    </tr>\n",
       "  </tbody>\n",
       "</table>\n",
       "</div>"
      ],
      "text/plain": [
       "               sales\n",
       "2023-01-31  1.000000\n",
       "2023-02-28  2.000000\n",
       "2023-03-31  3.059808\n",
       "2023-04-30  4.038069\n",
       "2023-05-31  5.000000"
      ]
     },
     "execution_count": 102,
     "metadata": {},
     "output_type": "execute_result"
    }
   ],
   "source": [
    "# if we think the line between known values is non-linear we can use different interpolate method\n",
    "# interpolating missing values\n",
    "\n",
    "dataframe.interpolate(method = 'quadratic')"
   ]
  },
  {
   "cell_type": "code",
   "execution_count": 103,
   "id": "1552da53",
   "metadata": {},
   "outputs": [
    {
     "data": {
      "text/html": [
       "<div>\n",
       "<style scoped>\n",
       "    .dataframe tbody tr th:only-of-type {\n",
       "        vertical-align: middle;\n",
       "    }\n",
       "\n",
       "    .dataframe tbody tr th {\n",
       "        vertical-align: top;\n",
       "    }\n",
       "\n",
       "    .dataframe thead th {\n",
       "        text-align: right;\n",
       "    }\n",
       "</style>\n",
       "<table border=\"1\" class=\"dataframe\">\n",
       "  <thead>\n",
       "    <tr style=\"text-align: right;\">\n",
       "      <th></th>\n",
       "      <th>sales</th>\n",
       "    </tr>\n",
       "  </thead>\n",
       "  <tbody>\n",
       "    <tr>\n",
       "      <th>2023-01-31</th>\n",
       "      <td>1.0</td>\n",
       "    </tr>\n",
       "    <tr>\n",
       "      <th>2023-02-28</th>\n",
       "      <td>2.0</td>\n",
       "    </tr>\n",
       "    <tr>\n",
       "      <th>2023-03-31</th>\n",
       "      <td>3.0</td>\n",
       "    </tr>\n",
       "    <tr>\n",
       "      <th>2023-04-30</th>\n",
       "      <td>NaN</td>\n",
       "    </tr>\n",
       "    <tr>\n",
       "      <th>2023-05-31</th>\n",
       "      <td>5.0</td>\n",
       "    </tr>\n",
       "  </tbody>\n",
       "</table>\n",
       "</div>"
      ],
      "text/plain": [
       "            sales\n",
       "2023-01-31    1.0\n",
       "2023-02-28    2.0\n",
       "2023-03-31    3.0\n",
       "2023-04-30    NaN\n",
       "2023-05-31    5.0"
      ]
     },
     "execution_count": 103,
     "metadata": {},
     "output_type": "execute_result"
    }
   ],
   "source": [
    "# If there are large gaps we can limit the number of interpolated values and limit_direction\n",
    "\n",
    "dataframe.interpolate(limit = 1, limit_direction = 'forward')"
   ]
  },
  {
   "cell_type": "code",
   "execution_count": null,
   "id": "048bd341",
   "metadata": {},
   "outputs": [],
   "source": []
  },
  {
   "cell_type": "code",
   "execution_count": null,
   "id": "5761ca92",
   "metadata": {},
   "outputs": [],
   "source": []
  },
  {
   "cell_type": "code",
   "execution_count": null,
   "id": "f8511446",
   "metadata": {},
   "outputs": [],
   "source": []
  },
  {
   "cell_type": "markdown",
   "id": "1bfca7f2",
   "metadata": {},
   "source": [
    "    Code Description Example\n",
    "    %Y - Full year                                   - 2001\n",
    "    %m - Month w/ zero padding                       - 04\n",
    "    %d - Day of the month w/ zero padding            - 09\n",
    "    %I - Hour (12hr clock) w/ zero padding           - 02\n",
    "    %p - AM or PM                                    - AM\n",
    "    %M - Minute w/ zero padding                      - 05\n",
    "    %S - Second w/ zero padding                      - 09"
   ]
  },
  {
   "cell_type": "code",
   "execution_count": null,
   "id": "51a69aae",
   "metadata": {},
   "outputs": [],
   "source": []
  }
 ],
 "metadata": {
  "kernelspec": {
   "display_name": "Python 3 (ipykernel)",
   "language": "python",
   "name": "python3"
  },
  "language_info": {
   "codemirror_mode": {
    "name": "ipython",
    "version": 3
   },
   "file_extension": ".py",
   "mimetype": "text/x-python",
   "name": "python",
   "nbconvert_exporter": "python",
   "pygments_lexer": "ipython3",
   "version": "3.10.9"
  }
 },
 "nbformat": 4,
 "nbformat_minor": 5
}
