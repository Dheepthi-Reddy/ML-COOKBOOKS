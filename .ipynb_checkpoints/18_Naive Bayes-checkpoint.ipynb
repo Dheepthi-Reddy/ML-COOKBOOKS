{
 "cells": [
  {
   "cell_type": "markdown",
   "id": "38c86b3b-d525-4832-a513-6685e65de622",
   "metadata": {},
   "source": [
    "# CHAPTER - 18: Naive Bayes\n",
    "\n",
    "Bayes theorem is a method for understanding the probability of an event, given some new information and a prior belief in the probability of the event.\n",
    "\n",
    "In machine learning the application of Bayes theorem is for the classification in the form of naive Bayes classifier.\n",
    "\n",
    "Naive Bayes classifiers combine a number of desirable qualities in practical machine learning into a single classifier, including:\n",
    "1. An intuitative approach\n",
    "2. The ability to work with small data\n",
    "3. Low computation costs for training and prediction\n",
    "4. often solid results in a variety of settings.\n",
    "\n",
    "In Naive Bayes classifier:\n",
    "1. For each feature in the data we have to assume a statistical distribution of the likelihood. The common distributions are normal(Gaussian), multinomial, and Bernoulli distributions. The distributions are chosen are determined by the nature of features(continuous, binary, etc...).\n",
    "2. Naive Bayes gets its name because we assume that each feature and its resulting likelihood is independent.\n",
    "\n",
    "## 18.1 Training a Classifier for Continuous Features\n",
    "\n",
    "When we have only continuous features and we want to train naive Bayes classifier.\n",
    "\n",
    "Using Gaussian Naive Bayes classifier:"
   ]
  },
  {
   "cell_type": "code",
   "execution_count": 1,
   "id": "8e739e23-4992-478c-a578-7167d2a72eee",
   "metadata": {},
   "outputs": [],
   "source": [
    "# loading libraries\n",
    "\n",
    "from sklearn import datasets\n",
    "from sklearn.naive_bayes import GaussianNB"
   ]
  },
  {
   "cell_type": "code",
   "execution_count": 3,
   "id": "ec2b1630-8c2e-4d02-ac29-6f8fcbfd27df",
   "metadata": {},
   "outputs": [],
   "source": [
    "# loading the data\n",
    "\n",
    "iris = datasets.load_iris()\n",
    "features = iris.data\n",
    "target = iris.target"
   ]
  },
  {
   "cell_type": "code",
   "execution_count": 4,
   "id": "c572a719-16be-4ce2-a715-2bc115ac0181",
   "metadata": {},
   "outputs": [],
   "source": [
    "# creating Gaussian Naive Bayes object\n",
    "\n",
    "classifier = GaussianNB()"
   ]
  },
  {
   "cell_type": "code",
   "execution_count": 5,
   "id": "5e35dfb5-6b08-4943-a802-9047a756b2ee",
   "metadata": {},
   "outputs": [],
   "source": [
    "# Training the model\n",
    "\n",
    "model = classifier.fit(features, target)"
   ]
  },
  {
   "cell_type": "code",
   "execution_count": 6,
   "id": "6a070725-8e6d-4ea2-88fb-cd70cad832ca",
   "metadata": {},
   "outputs": [],
   "source": [
    "# creating a new observation\n",
    "\n",
    "new_observation = [[4, 4, 4, 0.4]]"
   ]
  },
  {
   "cell_type": "code",
   "execution_count": 7,
   "id": "0c84d270-6b5b-443e-b393-d5c429159121",
   "metadata": {},
   "outputs": [
    {
     "data": {
      "text/plain": [
       "array([1])"
      ]
     },
     "execution_count": 7,
     "metadata": {},
     "output_type": "execute_result"
    }
   ],
   "source": [
    "# predicting class\n",
    "\n",
    "model.predict(new_observation)"
   ]
  },
  {
   "cell_type": "code",
   "execution_count": 8,
   "id": "3e183cd1-4c9b-4714-9544-5423332cad1b",
   "metadata": {},
   "outputs": [],
   "source": [
    "# Creating Gaussian Naive Bayes object with prior probabilities of each class\n",
    "\n",
    "clf = GaussianNB(priors = [0.25, 0.25, 0.5])"
   ]
  },
  {
   "cell_type": "code",
   "execution_count": 9,
   "id": "9f271a27-a0fa-4033-8829-a0ba772abc39",
   "metadata": {},
   "outputs": [],
   "source": [
    "# train the model\n",
    "\n",
    "model = classifier.fit(features, target)"
   ]
  },
  {
   "cell_type": "markdown",
   "id": "19427400-7ef3-4ab0-a1e5-5f815c700aa0",
   "metadata": {},
   "source": [
    "## 18.2 Training a classifier for Discrete and count features\n",
    "\n",
    "Using a muiltinomial Naive Bayes classifier:"
   ]
  },
  {
   "cell_type": "code",
   "execution_count": 10,
   "id": "c2b9ede4-ff40-4767-8b40-02ef20a97d20",
   "metadata": {},
   "outputs": [],
   "source": [
    "# loading the libraries\n",
    "\n",
    "import numpy as np\n",
    "from sklearn.naive_bayes import MultinomialNB\n",
    "from sklearn.feature_extraction.text import CountVectorizer"
   ]
  },
  {
   "cell_type": "code",
   "execution_count": 12,
   "id": "4d13d316-f33e-4a67-91a1-54d1e27339da",
   "metadata": {},
   "outputs": [],
   "source": [
    "# Create text\n",
    "\n",
    "text_data = np.array(['I love Brazil. Brazil!',\n",
    "                     'Brazil is best', \n",
    "                      'Germany beats both'])"
   ]
  },
  {
   "cell_type": "code",
   "execution_count": 13,
   "id": "ae3a19b4-9d5f-4264-9a5c-4874ce6359aa",
   "metadata": {},
   "outputs": [],
   "source": [
    "# creating a bag of words\n",
    "\n",
    "count = CountVectorizer()\n",
    "bag_of_words = count.fit_transform(text_data)"
   ]
  },
  {
   "cell_type": "code",
   "execution_count": 15,
   "id": "199fda64-f007-49bc-a502-b19296e65ef7",
   "metadata": {},
   "outputs": [],
   "source": [
    "# Create feature matrix\n",
    "\n",
    "features = bag_of_words.toarray()"
   ]
  },
  {
   "cell_type": "code",
   "execution_count": 16,
   "id": "0c468159-ac28-412a-9e04-a02c27182e80",
   "metadata": {},
   "outputs": [],
   "source": [
    "# Create target vector\n",
    "\n",
    "target = np.array([0, 0, 1])"
   ]
  },
  {
   "cell_type": "code",
   "execution_count": 17,
   "id": "af809371-9bef-4653-a2c6-ac290344a416",
   "metadata": {},
   "outputs": [],
   "source": [
    "# create multinomial naive Bayes object with prior probabilities of each class\n",
    "\n",
    "classifier = MultinomialNB(class_prior = [0.25, 0.5])"
   ]
  },
  {
   "cell_type": "code",
   "execution_count": 18,
   "id": "c22dd610-0033-4076-a6d5-ac81eff522b7",
   "metadata": {},
   "outputs": [],
   "source": [
    "# train model\n",
    "\n",
    "model = classifier.fit(features, target)"
   ]
  },
  {
   "cell_type": "markdown",
   "id": "3d46708e-3b34-44ad-bcdf-6a03dc307415",
   "metadata": {},
   "source": [
    "Most common uses of Multinomial NB is text classification using bag of words or tf-idf approaches."
   ]
  },
  {
   "cell_type": "code",
   "execution_count": 19,
   "id": "fc07e7ba-3f99-493e-b913-683f8a9f53a8",
   "metadata": {},
   "outputs": [],
   "source": [
    "# Creating a new observation\n",
    "\n",
    "new_observation = [[0, 0, 0, 1, 0, 1, 0]]"
   ]
  },
  {
   "cell_type": "code",
   "execution_count": 20,
   "id": "a2e644a2-0088-4670-ab18-c0e615326a24",
   "metadata": {},
   "outputs": [
    {
     "data": {
      "text/plain": [
       "array([0])"
      ]
     },
     "execution_count": 20,
     "metadata": {},
     "output_type": "execute_result"
    }
   ],
   "source": [
    "# predict new observation's class\n",
    "\n",
    "model.predict(new_observation)"
   ]
  },
  {
   "cell_type": "markdown",
   "id": "bfa55358-2b9b-47be-8668-5bcb2ca8dca4",
   "metadata": {},
   "source": [
    "If \"class_prior\" is not specified the prior probabilities are learned using the data. If we want a uniform distribution to be used as the prior, we can set \"fit_prior = false\".\n",
    "\n",
    "MultinomialNB has an additive smoothing hyperparameter, alpha, that should be tuned, it has a deafult value as 1.0, if the value is 0.0 means no smoothing takes place."
   ]
  },
  {
   "cell_type": "markdown",
   "id": "05549a21-f41f-4fb8-9960-9526842b64fb",
   "metadata": {},
   "source": [
    "## 18.3 Training a Naive Bayes Classifier for Binary Features\n",
    "\n",
    "Using Bernoulli NB classifier:"
   ]
  },
  {
   "cell_type": "code",
   "execution_count": 21,
   "id": "f735b0fd-0833-477e-ad10-510acd7dc45a",
   "metadata": {},
   "outputs": [],
   "source": [
    "# loading the libraries\n",
    "\n",
    "import numpy as np\n",
    "from sklearn.naive_bayes import BernoulliNB"
   ]
  },
  {
   "cell_type": "code",
   "execution_count": 22,
   "id": "e513f66d-21a7-4f3c-8f3d-7fcd8d8a30a1",
   "metadata": {},
   "outputs": [],
   "source": [
    "# creating three binary features\n",
    "\n",
    "features = np.random.randint(2, size = (100, 3))"
   ]
  },
  {
   "cell_type": "code",
   "execution_count": 23,
   "id": "d0b8fcd0-8b8e-4eb1-93cb-c4ef14633a1f",
   "metadata": {},
   "outputs": [],
   "source": [
    "# creating a binary target vector\n",
    "\n",
    "target = np.random.randint(2, size = (100, 1)).ravel()"
   ]
  },
  {
   "cell_type": "code",
   "execution_count": 24,
   "id": "32975b66-b5b2-4453-af10-b4d951c3a27a",
   "metadata": {},
   "outputs": [],
   "source": [
    "# create Bernouli Naive Bayes object with prior probabilities of each class\n",
    "\n",
    "classifier = BernoulliNB(class_prior = [0.25, 0.5])"
   ]
  },
  {
   "cell_type": "code",
   "execution_count": 25,
   "id": "33be4ff9-39da-4ad0-b437-874445a27639",
   "metadata": {},
   "outputs": [],
   "source": [
    "# train the model\n",
    "\n",
    "model = classifier.fit(features, target)"
   ]
  },
  {
   "cell_type": "markdown",
   "id": "6bc049f4-2bc8-42f6-a991-3fd7d59a7de9",
   "metadata": {},
   "source": [
    "Bernoulli NB classifier assumes that all our features are binary.\n",
    "\n",
    "Like Multinomial, Bernoulli NB is often used in text classification, and it also has smoothing hyperparameter alpha."
   ]
  },
  {
   "cell_type": "markdown",
   "id": "902efba3-4bcd-4375-9a59-97ee7a977996",
   "metadata": {},
   "source": [
    "## 18.4 Calibrating Predicted Probabilities\n",
    "\n",
    "To calibrate predicted probabilities from naive Bayes classifiers so they are interpretable using CaliberatedClassifierCV"
   ]
  },
  {
   "cell_type": "code",
   "execution_count": 27,
   "id": "072b9c03-1d5c-4fa6-ac4c-0c0d14a9278c",
   "metadata": {},
   "outputs": [],
   "source": [
    "# loading libraries\n",
    "\n",
    "from sklearn import datasets\n",
    "from sklearn.naive_bayes import GaussianNB\n",
    "from sklearn.calibration import CalibratedClassifierCV"
   ]
  },
  {
   "cell_type": "code",
   "execution_count": 28,
   "id": "fb37b224-a7d0-4ee2-a786-70b7e31ff3f5",
   "metadata": {},
   "outputs": [],
   "source": [
    "# loading data\n",
    "\n",
    "iris = datasets.load_iris()\n",
    "features = iris.data\n",
    "target = iris.target"
   ]
  },
  {
   "cell_type": "code",
   "execution_count": 29,
   "id": "d1bfa054-b109-4bac-936a-59f23695de75",
   "metadata": {},
   "outputs": [],
   "source": [
    "# create Gaussian Naive Bayes object\n",
    "\n",
    "classifier = GaussianNB()"
   ]
  },
  {
   "cell_type": "code",
   "execution_count": 30,
   "id": "85ccb83c-e570-4cc5-811a-b4c2fa3bc720",
   "metadata": {},
   "outputs": [],
   "source": [
    "# creating calibrated cross-validation with sigmoid calibration\n",
    "\n",
    "classifier_sigmoid = CalibratedClassifierCV(classifier, cv = 2, method = 'sigmoid')"
   ]
  },
  {
   "cell_type": "code",
   "execution_count": 31,
   "id": "e1451655-bbc9-498f-ab6c-e27f29b78018",
   "metadata": {},
   "outputs": [
    {
     "data": {
      "text/html": [
       "<style>#sk-container-id-1 {color: black;background-color: white;}#sk-container-id-1 pre{padding: 0;}#sk-container-id-1 div.sk-toggleable {background-color: white;}#sk-container-id-1 label.sk-toggleable__label {cursor: pointer;display: block;width: 100%;margin-bottom: 0;padding: 0.3em;box-sizing: border-box;text-align: center;}#sk-container-id-1 label.sk-toggleable__label-arrow:before {content: \"▸\";float: left;margin-right: 0.25em;color: #696969;}#sk-container-id-1 label.sk-toggleable__label-arrow:hover:before {color: black;}#sk-container-id-1 div.sk-estimator:hover label.sk-toggleable__label-arrow:before {color: black;}#sk-container-id-1 div.sk-toggleable__content {max-height: 0;max-width: 0;overflow: hidden;text-align: left;background-color: #f0f8ff;}#sk-container-id-1 div.sk-toggleable__content pre {margin: 0.2em;color: black;border-radius: 0.25em;background-color: #f0f8ff;}#sk-container-id-1 input.sk-toggleable__control:checked~div.sk-toggleable__content {max-height: 200px;max-width: 100%;overflow: auto;}#sk-container-id-1 input.sk-toggleable__control:checked~label.sk-toggleable__label-arrow:before {content: \"▾\";}#sk-container-id-1 div.sk-estimator input.sk-toggleable__control:checked~label.sk-toggleable__label {background-color: #d4ebff;}#sk-container-id-1 div.sk-label input.sk-toggleable__control:checked~label.sk-toggleable__label {background-color: #d4ebff;}#sk-container-id-1 input.sk-hidden--visually {border: 0;clip: rect(1px 1px 1px 1px);clip: rect(1px, 1px, 1px, 1px);height: 1px;margin: -1px;overflow: hidden;padding: 0;position: absolute;width: 1px;}#sk-container-id-1 div.sk-estimator {font-family: monospace;background-color: #f0f8ff;border: 1px dotted black;border-radius: 0.25em;box-sizing: border-box;margin-bottom: 0.5em;}#sk-container-id-1 div.sk-estimator:hover {background-color: #d4ebff;}#sk-container-id-1 div.sk-parallel-item::after {content: \"\";width: 100%;border-bottom: 1px solid gray;flex-grow: 1;}#sk-container-id-1 div.sk-label:hover label.sk-toggleable__label {background-color: #d4ebff;}#sk-container-id-1 div.sk-serial::before {content: \"\";position: absolute;border-left: 1px solid gray;box-sizing: border-box;top: 0;bottom: 0;left: 50%;z-index: 0;}#sk-container-id-1 div.sk-serial {display: flex;flex-direction: column;align-items: center;background-color: white;padding-right: 0.2em;padding-left: 0.2em;position: relative;}#sk-container-id-1 div.sk-item {position: relative;z-index: 1;}#sk-container-id-1 div.sk-parallel {display: flex;align-items: stretch;justify-content: center;background-color: white;position: relative;}#sk-container-id-1 div.sk-item::before, #sk-container-id-1 div.sk-parallel-item::before {content: \"\";position: absolute;border-left: 1px solid gray;box-sizing: border-box;top: 0;bottom: 0;left: 50%;z-index: -1;}#sk-container-id-1 div.sk-parallel-item {display: flex;flex-direction: column;z-index: 1;position: relative;background-color: white;}#sk-container-id-1 div.sk-parallel-item:first-child::after {align-self: flex-end;width: 50%;}#sk-container-id-1 div.sk-parallel-item:last-child::after {align-self: flex-start;width: 50%;}#sk-container-id-1 div.sk-parallel-item:only-child::after {width: 0;}#sk-container-id-1 div.sk-dashed-wrapped {border: 1px dashed gray;margin: 0 0.4em 0.5em 0.4em;box-sizing: border-box;padding-bottom: 0.4em;background-color: white;}#sk-container-id-1 div.sk-label label {font-family: monospace;font-weight: bold;display: inline-block;line-height: 1.2em;}#sk-container-id-1 div.sk-label-container {text-align: center;}#sk-container-id-1 div.sk-container {/* jupyter's `normalize.less` sets `[hidden] { display: none; }` but bootstrap.min.css set `[hidden] { display: none !important; }` so we also need the `!important` here to be able to override the default hidden behavior on the sphinx rendered scikit-learn.org. See: https://github.com/scikit-learn/scikit-learn/issues/21755 */display: inline-block !important;position: relative;}#sk-container-id-1 div.sk-text-repr-fallback {display: none;}</style><div id=\"sk-container-id-1\" class=\"sk-top-container\"><div class=\"sk-text-repr-fallback\"><pre>CalibratedClassifierCV(cv=2, estimator=GaussianNB())</pre><b>In a Jupyter environment, please rerun this cell to show the HTML representation or trust the notebook. <br />On GitHub, the HTML representation is unable to render, please try loading this page with nbviewer.org.</b></div><div class=\"sk-container\" hidden><div class=\"sk-item sk-dashed-wrapped\"><div class=\"sk-label-container\"><div class=\"sk-label sk-toggleable\"><input class=\"sk-toggleable__control sk-hidden--visually\" id=\"sk-estimator-id-1\" type=\"checkbox\" ><label for=\"sk-estimator-id-1\" class=\"sk-toggleable__label sk-toggleable__label-arrow\">CalibratedClassifierCV</label><div class=\"sk-toggleable__content\"><pre>CalibratedClassifierCV(cv=2, estimator=GaussianNB())</pre></div></div></div><div class=\"sk-parallel\"><div class=\"sk-parallel-item\"><div class=\"sk-item\"><div class=\"sk-label-container\"><div class=\"sk-label sk-toggleable\"><input class=\"sk-toggleable__control sk-hidden--visually\" id=\"sk-estimator-id-2\" type=\"checkbox\" ><label for=\"sk-estimator-id-2\" class=\"sk-toggleable__label sk-toggleable__label-arrow\">estimator: GaussianNB</label><div class=\"sk-toggleable__content\"><pre>GaussianNB()</pre></div></div></div><div class=\"sk-serial\"><div class=\"sk-item\"><div class=\"sk-estimator sk-toggleable\"><input class=\"sk-toggleable__control sk-hidden--visually\" id=\"sk-estimator-id-3\" type=\"checkbox\" ><label for=\"sk-estimator-id-3\" class=\"sk-toggleable__label sk-toggleable__label-arrow\">GaussianNB</label><div class=\"sk-toggleable__content\"><pre>GaussianNB()</pre></div></div></div></div></div></div></div></div></div></div>"
      ],
      "text/plain": [
       "CalibratedClassifierCV(cv=2, estimator=GaussianNB())"
      ]
     },
     "execution_count": 31,
     "metadata": {},
     "output_type": "execute_result"
    }
   ],
   "source": [
    "# Calibrate probabilities\n",
    "\n",
    "classifier_sigmoid.fit(features, target)"
   ]
  },
  {
   "cell_type": "code",
   "execution_count": 34,
   "id": "a34ed7fe-b583-45c8-a504-52bce67d7a3b",
   "metadata": {},
   "outputs": [],
   "source": [
    "# creating a new observation\n",
    "\n",
    "new_observation = [[2.6, 2.6, 2.6, 0.4]]"
   ]
  },
  {
   "cell_type": "code",
   "execution_count": 35,
   "id": "599c5ed0-765b-465f-8c47-922f84a8ab4d",
   "metadata": {},
   "outputs": [
    {
     "data": {
      "text/plain": [
       "array([[0.31859969, 0.63663466, 0.04476565]])"
      ]
     },
     "execution_count": 35,
     "metadata": {},
     "output_type": "execute_result"
    }
   ],
   "source": [
    "# view calibrated probabilities\n",
    "\n",
    "classifier_sigmoid.predict_proba(new_observation)"
   ]
  },
  {
   "cell_type": "code",
   "execution_count": 36,
   "id": "1874b4cc-9f4a-44ee-9df7-06d48c562988",
   "metadata": {},
   "outputs": [
    {
     "data": {
      "text/plain": [
       "array([[2.31548432e-04, 9.99768128e-01, 3.23532277e-07]])"
      ]
     },
     "execution_count": 36,
     "metadata": {},
     "output_type": "execute_result"
    }
   ],
   "source": [
    "# training a Gaussian NB  then predict class probabilities\n",
    "\n",
    "classifier.fit(features, target).predict_proba(new_observation)"
   ]
  },
  {
   "cell_type": "markdown",
   "id": "7eff4de1-730e-4bf0-be4d-8d8c8008a05a",
   "metadata": {},
   "source": [
    "CalibratedClassifierCV has two classification methods:\n",
    "1. Platt's sigmoid model\n",
    "2. Isotonic regression - it is nonparametric and tends to overfit when sample sizes are very small."
   ]
  },
  {
   "cell_type": "code",
   "execution_count": null,
   "id": "a9a61048-7d2d-49ff-bc04-605bf4a9e425",
   "metadata": {},
   "outputs": [],
   "source": []
  },
  {
   "cell_type": "code",
   "execution_count": null,
   "id": "36269414-83ff-4715-a71c-86bdd6b21f77",
   "metadata": {},
   "outputs": [],
   "source": []
  }
 ],
 "metadata": {
  "kernelspec": {
   "display_name": "Python 3 (ipykernel)",
   "language": "python",
   "name": "python3"
  },
  "language_info": {
   "codemirror_mode": {
    "name": "ipython",
    "version": 3
   },
   "file_extension": ".py",
   "mimetype": "text/x-python",
   "name": "python",
   "nbconvert_exporter": "python",
   "pygments_lexer": "ipython3",
   "version": "3.11.7"
  }
 },
 "nbformat": 4,
 "nbformat_minor": 5
}
